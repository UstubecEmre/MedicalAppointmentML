{
 "cells": [
  {
   "cell_type": "markdown",
   "id": "511e6d2e",
   "metadata": {},
   "source": [
    "Bu projemizde CRISP - DM (Cross Industry Standard Process for Data Mining) metodolojisi temel alınacaktır.\n",
    "\n",
    "### 1. Business Understanding (İş Problemini Anlamak)\n",
    "\n",
    "Bir kişinin önceden belirlenmiş olan randevuya gelip gelmeyeceğinin tahmin edilmesi istenmektedir.\n",
    "Bu problem için, gözetimli öğrenme yöntemlerinden sınıflandırma problemleri için kullanılan LogisticRegression,\n",
    "DecisionTree, RandomForest, SVM (SupportVectorMachine) vb. modeller kullanılabilir. \n",
    "\n",
    "Gözetimsiz öğrenme yöntemlerinden yararlanmak istenirse de,  randevusuna gidecekler ve gitmeyecekler olarak hastaları kümelere ayırma veya segmente etme işlemi gerçekleştirilebilir. Bunun için de makine öğrenmesi modellerinden olan K-Ortalama Kümeleme (K-Mean Clustering) veya Yoğunluk Tabanlı Kümeleme (DBSCAN(density-based clustering non-parametric algorithm)) kullanılabilir.\n",
    "\n",
    "### 2. Data Understanding(Veri Setini Anlamak)\n",
    "Veri setimiz \n",
    "o 'PatientId', \n",
    "o 'AppointmentID', \n",
    "o 'Gender', \n",
    "o 'ScheduledDay', \n",
    "o 'AppointmentDay', \n",
    "o 'Age', \n",
    "o 'Neighbourhood', \n",
    "o 'Scholarship', \n",
    "o 'Hipertension', \n",
    "o 'Diabetes',\n",
    "o 'Alcoholism', \n",
    "o 'Handcap',\n",
    "o 'SMS_received', \n",
    "Target: 'No-show'\n",
    "Hedef değişkeni No-show olan (hastanın randevuya gelip gelmemesi durumu) veri setine sahiptir. Toplamda hedef değişkenle beraber\n",
    "14 özniteliğimiz bulunmaktadır. Bu veri setinde nümerik olarak Age değişkeni yer almaktadır. Diğer değişkenlerin çoğu sayısal görünümlü ancak kategorik değişkenlerdir.\n",
    "AppointmentDay, ScheduledDay değişkenleri tarih veri tipine sahip değişkenler olmalarına rağmen object veri tipine sahip görünmektedirler.\n",
    "\n",
    "### 3. Data Preparation(Veriyi Hazırlama)\n",
    "Veriyi modele uygun olacak şekilde dönüştürmemiz gerekmektedir. LogisticRegresion gibi modeller string formatındaki verilerden dolayı model kuramazlar, bunun için gereksiz verilerin temizlenmesi (data cleanig), özellik çıkarımı (feature extraction) yöntemlerini kullanmamız gerekmektedir.\n",
    "Herhangi bir anlam çıkaramayacağımız AppointmentID, PatientId değişkenlerini veri setinden atmamız gerekmektedir.\n",
    "Modelin anlayabilmesi için Tarih değişkenine dönüştürülmesi gerekenlerin veri tipi to_datetime() fonksiyonu kullanılarak datetime'a dönüştürülmüştür. Buradan da yıl, ay, gün vb. özellikler çıkarılmıştır.\n",
    "Modelin daha hızlı çalışabilmesi amacıyla one-hot-encoding ve rare encoding işlemleri gerçekleştirilmiştir.\n",
    "Bu veri seti, dengesiz bir dağılıma sahiptir. \n",
    "No-show hedef değişkeninin 1 olması durumu: %20\n",
    "Neighbourhood değişkeninde durum buna benzer olarak görünmektedir. \n",
    "\n",
    "    \n",
    "    No-show\n",
    "0    88208\n",
    "1    22319\n",
    "\n",
    "Handcap, Neighbourhood gibi satırlarda rare encoding işlemi gerçekleştirilebilir.\n",
    "Model kurma aşamasında, Apointment_Year vb. değişkenler kullanılmayabilir. Bütün hepsi 2016 yılı içerisinde gelmişler. Bu pek bir anlam ifade etmiyor olabilir.\n",
    "\n",
    "\n",
    "\n",
    "### 4. Modeling (Modelleme)\n",
    "Problemimiz bir sınıflandırma problemi olduğu için LogisticRegression, NaiveBayes, SVC, XGBClassifier, Decision Tree, Random Forest\n",
    "vb. modeller tercih edilebilir.\n",
    "Modelin veri setinin büyüklüğü nedeniyle SVC yavaş çalışacaktır, bunun için bu modeli kullanmayı düşünmeyebilirsiniz. \n",
    "Çapraz doğrulama sonucu, modelin genelleme yeteneği daha iyi anlaşılacaktır. Bunun için kullanılacak modellerde GridSearchCV, RandomizedSearchCV vb. teknikler kullanılabilir.\n",
    "KFold yapısı da tercih edilebilir.\n",
    "\n",
    "### 5. Evaluation(Modeli Değerlendirme)\n",
    "Modelimiz dengesiz bir veri dağılımına sahip olduğundan dolayı Accuracy score yerine AUC, F1 Score gibi metrikleri tercih etmemiz daha iyi olacaktır. \n",
    "Modellerin başarısında gözlemlediğim üzere, model ezber yapmaya müsaittir, accuracy score No-show değişkeninin 0 olması durumu için oldukça iyi olmasına rağmen, 1 değerini almasında oldukça başarısızdır. Bunun önüne geçebilmek için Suni veri artırma yöntemi kullanılabilir.\n",
    "Biz de bunun önüne geçebilmek amacıyla \n",
    "\n",
    "### 6. Deployment (Dağıtım)\n",
    "\n"
   ]
  },
  {
   "cell_type": "code",
   "execution_count": 1,
   "id": "679f8b9f",
   "metadata": {},
   "outputs": [],
   "source": [
    "# import libraries\n",
    "import pandas as pd # data manipulation, load dataset etc.\n",
    "import numpy as np # linear algebra\n",
    "import seaborn as sns # data visualization\n",
    "import matplotlib.pyplot as plt # data visualization\n",
    "\n",
    "# Preprocessing (Veri Ön İşleme)\n",
    "from sklearn.preprocessing import StandardScaler # preprocessing\n",
    "\n",
    "# Modelling (Modelleme için)\n",
    "from sklearn.linear_model import LogisticRegression # Logistic Regression\n",
    "from sklearn.svm import SVC # Support Vector Machine Classifier\n",
    "from sklearn.ensemble import RandomForestClassifier # RandomForestClassifier\n",
    "from sklearn.tree import DecisionTreeClassifier # Decision Tree Classifier\n",
    "from sklearn.naive_bayes import GaussianNB #NaiveBayes\n",
    "from xgboost import XGBClassifier \n",
    "# train-test split\n",
    "from sklearn.model_selection import train_test_split\n",
    "\n",
    "# Model Evaluation (Model Değerlendirme)\n",
    "# confussion matrix, auc, f1 score etc\n",
    "from sklearn.metrics import classification_report, confusion_matrix, ConfusionMatrixDisplay\n"
   ]
  },
  {
   "cell_type": "code",
   "execution_count": 2,
   "id": "ce94eb4f",
   "metadata": {},
   "outputs": [],
   "source": [
    "# 2. Data Understanding\n",
    "\n",
    "\"\"\"\n",
    "import kagglehub\n",
    "# Download latest version\n",
    "path = kagglehub.dataset_download(\"joniarroba/noshowappointments\")\n",
    "print(\"Path to dataset files:\", path)    \n",
    "\"\"\"\n",
    "dataset_path = r\"D:\\10MillionAI\\Project\\medical_appointment.csv\"\n",
    "\n",
    "medical_appointment = pd.read_csv(dataset_path)\n",
    "\n",
    "if medical_appointment is None:\n",
    "    raise FileNotFoundError(\"File path is not found.\")\n",
    "\n",
    "df = pd.DataFrame(medical_appointment)\n",
    "# Show first 10 data\n",
    "df.head(10)\n",
    "\n",
    "def df_overview(dataframe):\n",
    "    print(\"************************** Shape **************************\")\n",
    "    print(dataframe.shape)\n",
    "    print(f\"Total Observation: {dataframe.shape[0]}\")\n",
    "    print(f\"Total Number of Features: {dataframe.shape[1]}\")\n",
    "    print(\"************************** Info **************************\")\n",
    "    print(dataframe.info)\n",
    "    print(\"************************** Columns **************************\")\n",
    "    print(dataframe.columns)\n",
    "    print(\"************************** Describe **************************\")\n",
    "    print(dataframe.describe())\n",
    "    "
   ]
  },
  {
   "cell_type": "code",
   "execution_count": 3,
   "id": "a052978d",
   "metadata": {},
   "outputs": [
    {
     "name": "stdout",
     "output_type": "stream",
     "text": [
      "************************** Shape **************************\n",
      "(110527, 14)\n",
      "Total Observation: 110527\n",
      "Total Number of Features: 14\n",
      "************************** Info **************************\n",
      "<bound method DataFrame.info of                  PatientId  AppointmentID Gender          ScheduledDay        AppointmentDay  Age      Neighbourhood  Scholarship  Hipertension  Diabetes  Alcoholism  Handcap  SMS_received No-show\n",
      "0       29872499824296.000        5642903      F  2016-04-29T18:38:08Z  2016-04-29T00:00:00Z   62    JARDIM DA PENHA            0             1         0           0        0             0      No\n",
      "1      558997776694438.000        5642503      M  2016-04-29T16:08:27Z  2016-04-29T00:00:00Z   56    JARDIM DA PENHA            0             0         0           0        0             0      No\n",
      "2        4262962299951.000        5642549      F  2016-04-29T16:19:04Z  2016-04-29T00:00:00Z   62      MATA DA PRAIA            0             0         0           0        0             0      No\n",
      "3         867951213174.000        5642828      F  2016-04-29T17:29:31Z  2016-04-29T00:00:00Z    8  PONTAL DE CAMBURI            0             0         0           0        0             0      No\n",
      "4        8841186448183.000        5642494      F  2016-04-29T16:07:23Z  2016-04-29T00:00:00Z   56    JARDIM DA PENHA            0             1         1           0        0             0      No\n",
      "...                    ...            ...    ...                   ...                   ...  ...                ...          ...           ...       ...         ...      ...           ...     ...\n",
      "110522   2572134369293.000        5651768      F  2016-05-03T09:15:35Z  2016-06-07T00:00:00Z   56        MARIA ORTIZ            0             0         0           0        0             1      No\n",
      "110523   3596266328735.000        5650093      F  2016-05-03T07:27:33Z  2016-06-07T00:00:00Z   51        MARIA ORTIZ            0             0         0           0        0             1      No\n",
      "110524  15576631729893.000        5630692      F  2016-04-27T16:03:52Z  2016-06-07T00:00:00Z   21        MARIA ORTIZ            0             0         0           0        0             1      No\n",
      "110525  92134931435557.000        5630323      F  2016-04-27T15:09:23Z  2016-06-07T00:00:00Z   38        MARIA ORTIZ            0             0         0           0        0             1      No\n",
      "110526 377511518121127.000        5629448      F  2016-04-27T13:30:56Z  2016-06-07T00:00:00Z   54        MARIA ORTIZ            0             0         0           0        0             1      No\n",
      "\n",
      "[110527 rows x 14 columns]>\n",
      "************************** Columns **************************\n",
      "Index(['PatientId', 'AppointmentID', 'Gender', 'ScheduledDay', 'AppointmentDay', 'Age', 'Neighbourhood', 'Scholarship', 'Hipertension', 'Diabetes', 'Alcoholism', 'Handcap', 'SMS_received', 'No-show'], dtype='object')\n",
      "************************** Describe **************************\n",
      "                PatientId  AppointmentID        Age  Scholarship  Hipertension   Diabetes  Alcoholism    Handcap  SMS_received\n",
      "count          110527.000     110527.000 110527.000   110527.000    110527.000 110527.000  110527.000 110527.000    110527.000\n",
      "mean  147496265710394.062    5675305.123     37.089        0.098         0.197      0.072       0.030      0.022         0.321\n",
      "std   256094920291738.875      71295.752     23.110        0.298         0.398      0.258       0.172      0.162         0.467\n",
      "min             39217.844    5030230.000     -1.000        0.000         0.000      0.000       0.000      0.000         0.000\n",
      "25%     4172614444192.000    5640285.500     18.000        0.000         0.000      0.000       0.000      0.000         0.000\n",
      "50%    31731838713978.000    5680573.000     37.000        0.000         0.000      0.000       0.000      0.000         0.000\n",
      "75%    94391720898175.000    5725523.500     55.000        0.000         0.000      0.000       0.000      0.000         1.000\n",
      "max   999981631772427.000    5790484.000    115.000        1.000         1.000      1.000       1.000      4.000         1.000\n"
     ]
    }
   ],
   "source": [
    "# call the df_overview (Veri setimize genel bakış atalım)\n",
    "pd.set_option(\"display.max_rows\", 500)\n",
    "pd.set_option(\"display.max_columns\", 500)\n",
    "pd.set_option(\"display.float_format\", lambda x: '%.3f' % x)\n",
    "pd.set_option(\"display.width\", 500)\n",
    "\n",
    "\n",
    "\n",
    "df_overview(dataframe=df)"
   ]
  },
  {
   "cell_type": "code",
   "execution_count": 5,
   "id": "0c9620f2",
   "metadata": {},
   "outputs": [
    {
     "name": "stdout",
     "output_type": "stream",
     "text": [
      "PatientId 's dtype is:  float64\n",
      "AppointmentID 's dtype is:  int64\n",
      "Gender 's dtype is:  object\n",
      "ScheduledDay 's dtype is:  object\n",
      "AppointmentDay 's dtype is:  object\n",
      "Age 's dtype is:  int64\n",
      "Neighbourhood 's dtype is:  object\n",
      "Scholarship 's dtype is:  int64\n",
      "Hipertension 's dtype is:  int64\n",
      "Diabetes 's dtype is:  int64\n",
      "Alcoholism 's dtype is:  int64\n",
      "Handcap 's dtype is:  int64\n",
      "SMS_received 's dtype is:  int64\n",
      "No-show 's dtype is:  object\n"
     ]
    }
   ],
   "source": [
    "# col list comp \n",
    "[col for col in df.columns]\n",
    "\"\"\" \n",
    "for col in df.columns:\n",
    "    print(col)\n",
    "\"\"\"\n",
    "# [df[col].dtype for col in df.column\n",
    "def show_col_dtype(dataframe):\n",
    "    for col in dataframe.columns:\n",
    "        print(col,\"'s dtype is: \", dataframe[col].dtype)\n",
    "    \n",
    "# call the function\n",
    "show_col_dtype(dataframe = df)"
   ]
  },
  {
   "cell_type": "code",
   "execution_count": 6,
   "id": "c6a55ea5",
   "metadata": {},
   "outputs": [
    {
     "name": "stdout",
     "output_type": "stream",
     "text": [
      "Categorical Columns:  ['Gender', 'ScheduledDay', 'AppointmentDay', 'Neighbourhood', 'No-show', 'Scholarship', 'Hipertension', 'Diabetes', 'Alcoholism', 'Handcap', 'SMS_received']\n",
      "****************************************************************************************************\n",
      "Numerical Columns:  ['PatientId', 'AppointmentID', 'Age']\n",
      "Numerical But Categorical:  ['Scholarship', 'Hipertension', 'Diabetes', 'Alcoholism', 'Handcap', 'SMS_received']\n"
     ]
    }
   ],
   "source": [
    "\n",
    "# Categorical Columns\n",
    "cat_cols = [col for col in df.columns if df[col].dtype == \"O\"]\n",
    "# Numerical Columns\n",
    "\n",
    "num_but_cat = [col for col in df.columns if df[col].nunique() < 10 and\n",
    "               df[col].dtype in ['int64', 'float64']]\n",
    "\n",
    "num_cols = [col for col in df.columns if col not in num_but_cat\n",
    "            and df[col].dtype in ['int64', 'float64']]\n",
    "\n",
    "\n",
    "cat_cols = cat_cols + num_but_cat\n",
    "\n",
    "\n",
    "\n",
    "print(\"Categorical Columns: \", cat_cols)\n",
    "print(\"*\"*100)\n",
    "print(\"Numerical Columns: \", num_cols)\n",
    "print(\"Numerical But Categorical: \", num_but_cat)"
   ]
  },
  {
   "cell_type": "code",
   "execution_count": 7,
   "id": "d0eda7a5",
   "metadata": {},
   "outputs": [
    {
     "data": {
      "application/vnd.microsoft.datawrangler.viewer.v0+json": {
       "columns": [
        {
         "name": "index",
         "rawType": "object",
         "type": "string"
        },
        {
         "name": "0",
         "rawType": "int64",
         "type": "integer"
        }
       ],
       "ref": "8d99b416-a7cf-4856-89f2-cf871c3a8322",
       "rows": [
        [
         "PatientId",
         "0"
        ],
        [
         "AppointmentID",
         "0"
        ],
        [
         "Gender",
         "0"
        ],
        [
         "ScheduledDay",
         "0"
        ],
        [
         "AppointmentDay",
         "0"
        ],
        [
         "Age",
         "0"
        ],
        [
         "Neighbourhood",
         "0"
        ],
        [
         "Scholarship",
         "0"
        ],
        [
         "Hipertension",
         "0"
        ],
        [
         "Diabetes",
         "0"
        ],
        [
         "Alcoholism",
         "0"
        ],
        [
         "Handcap",
         "0"
        ],
        [
         "SMS_received",
         "0"
        ],
        [
         "No-show",
         "0"
        ]
       ],
       "shape": {
        "columns": 1,
        "rows": 14
       }
      },
      "text/plain": [
       "PatientId         0\n",
       "AppointmentID     0\n",
       "Gender            0\n",
       "ScheduledDay      0\n",
       "AppointmentDay    0\n",
       "Age               0\n",
       "Neighbourhood     0\n",
       "Scholarship       0\n",
       "Hipertension      0\n",
       "Diabetes          0\n",
       "Alcoholism        0\n",
       "Handcap           0\n",
       "SMS_received      0\n",
       "No-show           0\n",
       "dtype: int64"
      ]
     },
     "execution_count": 7,
     "metadata": {},
     "output_type": "execute_result"
    }
   ],
   "source": [
    "# NA \n",
    "df.isnull().sum() \n",
    "\n"
   ]
  },
  {
   "cell_type": "code",
   "execution_count": 8,
   "id": "789d314a",
   "metadata": {},
   "outputs": [
    {
     "name": "stdout",
     "output_type": "stream",
     "text": [
      "NA Columns:  []\n"
     ]
    },
    {
     "data": {
      "application/vnd.microsoft.datawrangler.viewer.v0+json": {
       "columns": [
        {
         "name": "PatientId",
         "rawType": "float64",
         "type": "float"
        },
        {
         "name": "Gender",
         "rawType": "object",
         "type": "string"
        },
        {
         "name": "ScheduledDay",
         "rawType": "object",
         "type": "string"
        },
        {
         "name": "AppointmentDay",
         "rawType": "object",
         "type": "string"
        },
        {
         "name": "Age",
         "rawType": "int64",
         "type": "integer"
        },
        {
         "name": "Neighbourhood",
         "rawType": "object",
         "type": "string"
        },
        {
         "name": "Scholarship",
         "rawType": "int64",
         "type": "integer"
        },
        {
         "name": "Hipertension",
         "rawType": "int64",
         "type": "integer"
        },
        {
         "name": "Diabetes",
         "rawType": "int64",
         "type": "integer"
        },
        {
         "name": "Alcoholism",
         "rawType": "int64",
         "type": "integer"
        },
        {
         "name": "Handcap",
         "rawType": "int64",
         "type": "integer"
        },
        {
         "name": "SMS_received",
         "rawType": "int64",
         "type": "integer"
        },
        {
         "name": "No-show",
         "rawType": "object",
         "type": "string"
        }
       ],
       "ref": "2bfd8393-7ae4-423b-a14f-7273a6d49f3d",
       "rows": [
        [
         "29872499824296.0",
         "F",
         "2016-04-29T18:38:08Z",
         "2016-04-29T00:00:00Z",
         "62",
         "JARDIM DA PENHA",
         "0",
         "1",
         "0",
         "0",
         "0",
         "0",
         "No"
        ],
        [
         "558997776694438.0",
         "M",
         "2016-04-29T16:08:27Z",
         "2016-04-29T00:00:00Z",
         "56",
         "JARDIM DA PENHA",
         "0",
         "0",
         "0",
         "0",
         "0",
         "0",
         "No"
        ],
        [
         "4262962299951.0",
         "F",
         "2016-04-29T16:19:04Z",
         "2016-04-29T00:00:00Z",
         "62",
         "MATA DA PRAIA",
         "0",
         "0",
         "0",
         "0",
         "0",
         "0",
         "No"
        ],
        [
         "867951213174.0",
         "F",
         "2016-04-29T17:29:31Z",
         "2016-04-29T00:00:00Z",
         "8",
         "PONTAL DE CAMBURI",
         "0",
         "0",
         "0",
         "0",
         "0",
         "0",
         "No"
        ],
        [
         "8841186448183.0",
         "F",
         "2016-04-29T16:07:23Z",
         "2016-04-29T00:00:00Z",
         "56",
         "JARDIM DA PENHA",
         "0",
         "1",
         "1",
         "0",
         "0",
         "0",
         "No"
        ],
        [
         "95985133231274.0",
         "F",
         "2016-04-27T08:36:51Z",
         "2016-04-29T00:00:00Z",
         "76",
         "REPÚBLICA",
         "0",
         "1",
         "0",
         "0",
         "0",
         "0",
         "No"
        ],
        [
         "733688164476661.0",
         "F",
         "2016-04-27T15:05:12Z",
         "2016-04-29T00:00:00Z",
         "23",
         "GOIABEIRAS",
         "0",
         "0",
         "0",
         "0",
         "0",
         "0",
         "Yes"
        ],
        [
         "3449833394123.0",
         "F",
         "2016-04-27T15:39:58Z",
         "2016-04-29T00:00:00Z",
         "39",
         "GOIABEIRAS",
         "0",
         "0",
         "0",
         "0",
         "0",
         "0",
         "Yes"
        ],
        [
         "56394729949972.0",
         "F",
         "2016-04-29T08:02:16Z",
         "2016-04-29T00:00:00Z",
         "21",
         "ANDORINHAS",
         "0",
         "0",
         "0",
         "0",
         "0",
         "0",
         "No"
        ],
        [
         "78124564369297.0",
         "F",
         "2016-04-27T12:48:25Z",
         "2016-04-29T00:00:00Z",
         "19",
         "CONQUISTA",
         "0",
         "0",
         "0",
         "0",
         "0",
         "0",
         "No"
        ]
       ],
       "shape": {
        "columns": 12,
        "rows": 10
       }
      },
      "text/html": [
       "<div>\n",
       "<style scoped>\n",
       "    .dataframe tbody tr th:only-of-type {\n",
       "        vertical-align: middle;\n",
       "    }\n",
       "\n",
       "    .dataframe tbody tr th {\n",
       "        vertical-align: top;\n",
       "    }\n",
       "\n",
       "    .dataframe thead th {\n",
       "        text-align: right;\n",
       "    }\n",
       "</style>\n",
       "<table border=\"1\" class=\"dataframe\">\n",
       "  <thead>\n",
       "    <tr style=\"text-align: right;\">\n",
       "      <th></th>\n",
       "      <th>Gender</th>\n",
       "      <th>ScheduledDay</th>\n",
       "      <th>AppointmentDay</th>\n",
       "      <th>Age</th>\n",
       "      <th>Neighbourhood</th>\n",
       "      <th>Scholarship</th>\n",
       "      <th>Hipertension</th>\n",
       "      <th>Diabetes</th>\n",
       "      <th>Alcoholism</th>\n",
       "      <th>Handcap</th>\n",
       "      <th>SMS_received</th>\n",
       "      <th>No-show</th>\n",
       "    </tr>\n",
       "    <tr>\n",
       "      <th>PatientId</th>\n",
       "      <th></th>\n",
       "      <th></th>\n",
       "      <th></th>\n",
       "      <th></th>\n",
       "      <th></th>\n",
       "      <th></th>\n",
       "      <th></th>\n",
       "      <th></th>\n",
       "      <th></th>\n",
       "      <th></th>\n",
       "      <th></th>\n",
       "      <th></th>\n",
       "    </tr>\n",
       "  </thead>\n",
       "  <tbody>\n",
       "    <tr>\n",
       "      <th>29872499824296.000</th>\n",
       "      <td>F</td>\n",
       "      <td>2016-04-29T18:38:08Z</td>\n",
       "      <td>2016-04-29T00:00:00Z</td>\n",
       "      <td>62</td>\n",
       "      <td>JARDIM DA PENHA</td>\n",
       "      <td>0</td>\n",
       "      <td>1</td>\n",
       "      <td>0</td>\n",
       "      <td>0</td>\n",
       "      <td>0</td>\n",
       "      <td>0</td>\n",
       "      <td>No</td>\n",
       "    </tr>\n",
       "    <tr>\n",
       "      <th>558997776694438.000</th>\n",
       "      <td>M</td>\n",
       "      <td>2016-04-29T16:08:27Z</td>\n",
       "      <td>2016-04-29T00:00:00Z</td>\n",
       "      <td>56</td>\n",
       "      <td>JARDIM DA PENHA</td>\n",
       "      <td>0</td>\n",
       "      <td>0</td>\n",
       "      <td>0</td>\n",
       "      <td>0</td>\n",
       "      <td>0</td>\n",
       "      <td>0</td>\n",
       "      <td>No</td>\n",
       "    </tr>\n",
       "    <tr>\n",
       "      <th>4262962299951.000</th>\n",
       "      <td>F</td>\n",
       "      <td>2016-04-29T16:19:04Z</td>\n",
       "      <td>2016-04-29T00:00:00Z</td>\n",
       "      <td>62</td>\n",
       "      <td>MATA DA PRAIA</td>\n",
       "      <td>0</td>\n",
       "      <td>0</td>\n",
       "      <td>0</td>\n",
       "      <td>0</td>\n",
       "      <td>0</td>\n",
       "      <td>0</td>\n",
       "      <td>No</td>\n",
       "    </tr>\n",
       "    <tr>\n",
       "      <th>867951213174.000</th>\n",
       "      <td>F</td>\n",
       "      <td>2016-04-29T17:29:31Z</td>\n",
       "      <td>2016-04-29T00:00:00Z</td>\n",
       "      <td>8</td>\n",
       "      <td>PONTAL DE CAMBURI</td>\n",
       "      <td>0</td>\n",
       "      <td>0</td>\n",
       "      <td>0</td>\n",
       "      <td>0</td>\n",
       "      <td>0</td>\n",
       "      <td>0</td>\n",
       "      <td>No</td>\n",
       "    </tr>\n",
       "    <tr>\n",
       "      <th>8841186448183.000</th>\n",
       "      <td>F</td>\n",
       "      <td>2016-04-29T16:07:23Z</td>\n",
       "      <td>2016-04-29T00:00:00Z</td>\n",
       "      <td>56</td>\n",
       "      <td>JARDIM DA PENHA</td>\n",
       "      <td>0</td>\n",
       "      <td>1</td>\n",
       "      <td>1</td>\n",
       "      <td>0</td>\n",
       "      <td>0</td>\n",
       "      <td>0</td>\n",
       "      <td>No</td>\n",
       "    </tr>\n",
       "    <tr>\n",
       "      <th>95985133231274.000</th>\n",
       "      <td>F</td>\n",
       "      <td>2016-04-27T08:36:51Z</td>\n",
       "      <td>2016-04-29T00:00:00Z</td>\n",
       "      <td>76</td>\n",
       "      <td>REPÚBLICA</td>\n",
       "      <td>0</td>\n",
       "      <td>1</td>\n",
       "      <td>0</td>\n",
       "      <td>0</td>\n",
       "      <td>0</td>\n",
       "      <td>0</td>\n",
       "      <td>No</td>\n",
       "    </tr>\n",
       "    <tr>\n",
       "      <th>733688164476661.000</th>\n",
       "      <td>F</td>\n",
       "      <td>2016-04-27T15:05:12Z</td>\n",
       "      <td>2016-04-29T00:00:00Z</td>\n",
       "      <td>23</td>\n",
       "      <td>GOIABEIRAS</td>\n",
       "      <td>0</td>\n",
       "      <td>0</td>\n",
       "      <td>0</td>\n",
       "      <td>0</td>\n",
       "      <td>0</td>\n",
       "      <td>0</td>\n",
       "      <td>Yes</td>\n",
       "    </tr>\n",
       "    <tr>\n",
       "      <th>3449833394123.000</th>\n",
       "      <td>F</td>\n",
       "      <td>2016-04-27T15:39:58Z</td>\n",
       "      <td>2016-04-29T00:00:00Z</td>\n",
       "      <td>39</td>\n",
       "      <td>GOIABEIRAS</td>\n",
       "      <td>0</td>\n",
       "      <td>0</td>\n",
       "      <td>0</td>\n",
       "      <td>0</td>\n",
       "      <td>0</td>\n",
       "      <td>0</td>\n",
       "      <td>Yes</td>\n",
       "    </tr>\n",
       "    <tr>\n",
       "      <th>56394729949972.000</th>\n",
       "      <td>F</td>\n",
       "      <td>2016-04-29T08:02:16Z</td>\n",
       "      <td>2016-04-29T00:00:00Z</td>\n",
       "      <td>21</td>\n",
       "      <td>ANDORINHAS</td>\n",
       "      <td>0</td>\n",
       "      <td>0</td>\n",
       "      <td>0</td>\n",
       "      <td>0</td>\n",
       "      <td>0</td>\n",
       "      <td>0</td>\n",
       "      <td>No</td>\n",
       "    </tr>\n",
       "    <tr>\n",
       "      <th>78124564369297.000</th>\n",
       "      <td>F</td>\n",
       "      <td>2016-04-27T12:48:25Z</td>\n",
       "      <td>2016-04-29T00:00:00Z</td>\n",
       "      <td>19</td>\n",
       "      <td>CONQUISTA</td>\n",
       "      <td>0</td>\n",
       "      <td>0</td>\n",
       "      <td>0</td>\n",
       "      <td>0</td>\n",
       "      <td>0</td>\n",
       "      <td>0</td>\n",
       "      <td>No</td>\n",
       "    </tr>\n",
       "  </tbody>\n",
       "</table>\n",
       "</div>"
      ],
      "text/plain": [
       "                    Gender          ScheduledDay        AppointmentDay  Age      Neighbourhood  Scholarship  Hipertension  Diabetes  Alcoholism  Handcap  SMS_received No-show\n",
       "PatientId                                                                                                                                                                     \n",
       "29872499824296.000       F  2016-04-29T18:38:08Z  2016-04-29T00:00:00Z   62    JARDIM DA PENHA            0             1         0           0        0             0      No\n",
       "558997776694438.000      M  2016-04-29T16:08:27Z  2016-04-29T00:00:00Z   56    JARDIM DA PENHA            0             0         0           0        0             0      No\n",
       "4262962299951.000        F  2016-04-29T16:19:04Z  2016-04-29T00:00:00Z   62      MATA DA PRAIA            0             0         0           0        0             0      No\n",
       "867951213174.000         F  2016-04-29T17:29:31Z  2016-04-29T00:00:00Z    8  PONTAL DE CAMBURI            0             0         0           0        0             0      No\n",
       "8841186448183.000        F  2016-04-29T16:07:23Z  2016-04-29T00:00:00Z   56    JARDIM DA PENHA            0             1         1           0        0             0      No\n",
       "95985133231274.000       F  2016-04-27T08:36:51Z  2016-04-29T00:00:00Z   76          REPÚBLICA            0             1         0           0        0             0      No\n",
       "733688164476661.000      F  2016-04-27T15:05:12Z  2016-04-29T00:00:00Z   23         GOIABEIRAS            0             0         0           0        0             0     Yes\n",
       "3449833394123.000        F  2016-04-27T15:39:58Z  2016-04-29T00:00:00Z   39         GOIABEIRAS            0             0         0           0        0             0     Yes\n",
       "56394729949972.000       F  2016-04-29T08:02:16Z  2016-04-29T00:00:00Z   21         ANDORINHAS            0             0         0           0        0             0      No\n",
       "78124564369297.000       F  2016-04-27T12:48:25Z  2016-04-29T00:00:00Z   19          CONQUISTA            0             0         0           0        0             0      No"
      ]
     },
     "execution_count": 8,
     "metadata": {},
     "output_type": "execute_result"
    }
   ],
   "source": [
    "# \n",
    "na_cols = [col for col in df.columns if df[col].isnull().sum() > 0]\n",
    "print(\"NA Columns: \", na_cols) # boş bir liste döndü\n",
    "\n",
    "# df_copy\n",
    "df_copy = df.copy()\n",
    "df_copy = df_copy.set_index(\"PatientId\")\n",
    "# df_copy = df_copy.drop('PatientId' ,axis= 1)\n",
    "df_copy.head()\n",
    "\n",
    "# Bilgi taşımayan sütunları silelim. AppointmentID herhangi bir bilgi taşımıyor.\n",
    "df_copy = df_copy.drop(\"AppointmentID\", axis= 1)\n",
    "df_copy.head(10)\n"
   ]
  },
  {
   "cell_type": "code",
   "execution_count": 9,
   "id": "e7180b45",
   "metadata": {},
   "outputs": [
    {
     "name": "stdout",
     "output_type": "stream",
     "text": [
      "Kadın oranı: 65.00%\n",
      "Erkek oranı: 35.00%\n"
     ]
    },
    {
     "data": {
      "image/png": "[encoded data removed]",
      "text/plain": [
       "<Figure size 640x480 with 1 Axes>"
      ]
     },
     "metadata": {},
     "output_type": "display_data"
    }
   ],
   "source": [
    "# Gender \n",
    "df_copy[\"Gender\"].value_counts()\n",
    "\n",
    "f_ratio = (df_copy[\"Gender\"] == \"F\").mean()  # True = 1, False = 0\n",
    "print(f\"Kadın oranı: {f_ratio:.2%}\")\n",
    "\n",
    "\n",
    "m_ratio = (df_copy[\"Gender\"] == \"M\").mean()\n",
    "print(f\"Erkek oranı: {m_ratio:.2%}\")\n",
    "\n",
    "#df_copy.groupby(\"Gender\")[\"Age\"].agg([\"count\", \"mean\"])\n",
    "\n",
    "sns.countplot(x = \"Gender\", data= df_copy)\n",
    "plt.title(\"Cinsiyete Göre Dağılım\")\n",
    "plt.xlabel(\"Cinsiyet\")\n",
    "plt.ylabel(\"Kişi Sayısı\")\n",
    "plt.show()\n"
   ]
  },
  {
   "cell_type": "code",
   "execution_count": 10,
   "id": "0bd69894",
   "metadata": {},
   "outputs": [
    {
     "data": {
      "image/png": "[encoded data removed]",
      "text/plain": [
       "<Figure size 640x480 with 1 Axes>"
      ]
     },
     "metadata": {},
     "output_type": "display_data"
    }
   ],
   "source": [
    "# Age \n",
    "mean_age = df_copy[\"Age\"].mean() # 37.08\n",
    "\n",
    "df_copy.groupby(\"Gender\")[\"Age\"].mean() # F: 38.893987 M: 33.736863\n",
    "\n",
    "sns.barplot(x = \"Gender\", y = \"Age\", data= df_copy, color = \"pink\")\n",
    "plt.title(\"Cinsiyete Göre Ortalama Yaş\")\n",
    "plt.xlabel(\"Cinsiyet (F: Kadın, M: Erkek)\")\n",
    "plt.ylabel(\"Yaş\")\n",
    "plt.show()"
   ]
  },
  {
   "cell_type": "code",
   "execution_count": 11,
   "id": "224e1051",
   "metadata": {},
   "outputs": [
    {
     "name": "stdout",
     "output_type": "stream",
     "text": [
      "Hipertansiyonu Olmayanların Oranı: 80.28%\n",
      "Hipertansiyonu Olanların Oranı:  19.72%\n"
     ]
    },
    {
     "data": {
      "image/png": "[encoded data removed]",
      "text/plain": [
       "<Figure size 640x480 with 1 Axes>"
      ]
     },
     "metadata": {},
     "output_type": "display_data"
    }
   ],
   "source": [
    "# hipertension\n",
    "df_copy[\"Hipertension\"].value_counts()  \n",
    "\n",
    "no_hipertension_ratio = (df_copy[\"Hipertension\"] == 0).sum() / len(df_copy)\n",
    "print(f\"Hipertansiyonu Olmayanların Oranı: {no_hipertension_ratio:.2%}\")\n",
    "\n",
    "yes_hipertension_ratio = (df_copy[\"Hipertension\"] == 1).sum() / len(df_copy)\n",
    "print(f\"Hipertansiyonu Olanların Oranı: {yes_hipertension_ratio: .2%}\")\n",
    "\n",
    "\n",
    "\n",
    "sns.countplot(x = \"Hipertension\", data= df_copy, color = \"green\")\n",
    "plt.title(\"Hipertansiyon Olup Olmamasının Dağılımı\")\n",
    "plt.xlabel(\"Hipertansiyon (0: Yok, 1: Var)\")\n",
    "plt.ylabel(\"Kişi Sayısı\")\n",
    "plt.show()"
   ]
  },
  {
   "cell_type": "code",
   "execution_count": 12,
   "id": "ea900282",
   "metadata": {},
   "outputs": [
    {
     "name": "stdout",
     "output_type": "stream",
     "text": [
      "Diabet Olanların Oranı: 7.19%\n",
      "Diabet Olmayanların Oranı: 92.81%\n"
     ]
    },
    {
     "data": {
      "image/png": "[encoded data removed]",
      "text/plain": [
       "<Figure size 640x480 with 1 Axes>"
      ]
     },
     "metadata": {},
     "output_type": "display_data"
    }
   ],
   "source": [
    "# Diabetes\n",
    "df_copy[\"Diabetes\"].value_counts()\n",
    "diabetest_ratio = (df_copy[\"Diabetes\"] == 1).sum() / len(df_copy)\n",
    "print(f\"Diabet Olanların Oranı: {diabetest_ratio:.2%}\")\n",
    "\n",
    "no_diabetes =(df_copy[\"Diabetes\"] == 0).sum() / len(df_copy)\n",
    "print(f\"Diabet Olmayanların Oranı: {no_diabetes:.2%}\")\n",
    "\n",
    "# Alternative way : print(df_copy[\"Diabetes\"].value_counts(normalize= True))\n",
    "\n",
    "sns.countplot(x = \"Diabetes\", data = df_copy, color = \"gray\")\n",
    "plt.title(\"Diabet Oranı\")\n",
    "plt.xlabel(\"Diabet (0: Yok, 1: Var)\")\n",
    "plt.ylabel(\"Kişi Sayısı\")\n",
    "plt.show()"
   ]
  },
  {
   "cell_type": "code",
   "execution_count": 13,
   "id": "2c2f543c",
   "metadata": {},
   "outputs": [
    {
     "name": "stdout",
     "output_type": "stream",
     "text": [
      "Alkol Kullanmayan Oranı:  96.96%\n",
      "Alkol Kullanan Oranı:  3.04%\n"
     ]
    },
    {
     "data": {
      "image/png": "[encoded data removed]",
      "text/plain": [
       "<Figure size 640x480 with 1 Axes>"
      ]
     },
     "metadata": {},
     "output_type": "display_data"
    }
   ],
   "source": [
    "# Alcoholism\n",
    "df_copy[\"Alcoholism\"].value_counts()\n",
    "\n",
    "alcoholism_rate = (df_copy[\"Alcoholism\"] == 0).sum() / len(df_copy) \n",
    "print(f\"Alkol Kullanmayan Oranı: {alcoholism_rate: .2%}\")\n",
    "\n",
    "no_alcoholism_rate = (df_copy[\"Alcoholism\"] == 1).sum() / len(df_copy) \n",
    "print(f\"Alkol Kullanan Oranı: {no_alcoholism_rate: .2%}\")\n",
    "\n",
    "sns.countplot(x = \"Alcoholism\", data = df_copy, color = \"red\")\n",
    "plt.title(\"Alkol Kullanma Oranı\")\n",
    "plt.xlabel(\"Alkol Kullanımı (0: Yok, 1: Var)\")\n",
    "plt.ylabel(\"Kişi Sayısı\")\n",
    "plt.show()"
   ]
  },
  {
   "cell_type": "code",
   "execution_count": 14,
   "id": "da44b118",
   "metadata": {},
   "outputs": [
    {
     "data": {
      "image/png": "[encoded data removed]",
      "text/plain": [
       "<Figure size 600x400 with 1 Axes>"
      ]
     },
     "metadata": {},
     "output_type": "display_data"
    },
    {
     "data": {
      "image/png": "[encoded data removed]",
      "text/plain": [
       "<Figure size 600x400 with 1 Axes>"
      ]
     },
     "metadata": {},
     "output_type": "display_data"
    },
    {
     "data": {
      "image/png": "[encoded data removed]",
      "text/plain": [
       "<Figure size 600x400 with 1 Axes>"
      ]
     },
     "metadata": {},
     "output_type": "display_data"
    },
    {
     "data": {
      "image/png": "[encoded data removed]",
      "text/plain": [
       "<Figure size 600x400 with 1 Axes>"
      ]
     },
     "metadata": {},
     "output_type": "display_data"
    }
   ],
   "source": [
    "# Bunun için bir sınıf veya döngü de oluşturulabilir.\n",
    "def show_countplot(dataframe, cat_cols, plot = False):\n",
    "    for col in cat_cols:\n",
    "        if plot:\n",
    "            plt.figure(figsize=(6,4))\n",
    "            sns.countplot(x = col, data = dataframe, color = \"orange\")\n",
    "            plt.title(f\"{col}Grafiği\")\n",
    "            plt.xlabel(f\"{col} Sütunu\")\n",
    "            plt.ylabel(\"Kişi Sayısı\")\n",
    "          \n",
    "            plt.tight_layout()\n",
    "            plt.show()\n",
    "\n",
    "show_countplot(dataframe= df_copy, cat_cols = [\"Gender\",\"Hipertension\",\"Alcoholism\",\"Diabetes\"], plot = True )"
   ]
  },
  {
   "cell_type": "markdown",
   "id": "40dde122",
   "metadata": {},
   "source": [
    "o Yukarıdaki grafiklerde göründüğü üzere, kategorik olarak sayılabilecek değişkenlerin fonksiyon aracılığıyla görselleştirilmesi gerçekleştirildi. \n",
    "\n",
    "o Bunu fonksiyonel olarak gerçekleştirdik ancak cat_cols isimli değişkenler de programatik şekilde elde edilerek hataların önüne geçilebilir. \n",
    "\n",
    "o Verilerden yola çıkarak alkol kullanmama, diabete sahip olmama, hipertansiyona sahip olmama gibi sağlık açısından yararlı aktivitelerin randevu almış hastalarda yüksek oranda olması kayda değer olacaktır gibi görünmektedir. \n",
    "\n",
    "o Bunların ilişkisini hedef değişken olan No-show yani randevuya gelmeme durumuna göre incelememiz gerekecektir.\n"
   ]
  },
  {
   "cell_type": "code",
   "execution_count": 15,
   "id": "9d0afd86",
   "metadata": {},
   "outputs": [
    {
     "name": "stdout",
     "output_type": "stream",
     "text": [
      "['Gender', 'ScheduledDay', 'AppointmentDay', 'Neighbourhood', 'No-show', 'Scholarship', 'Hipertension', 'Diabetes', 'Alcoholism', 'Handcap', 'SMS_received']\n"
     ]
    },
    {
     "data": {
      "image/png": "[encoded data removed]",
      "text/plain": [
       "<Figure size 1000x600 with 1 Axes>"
      ]
     },
     "metadata": {},
     "output_type": "display_data"
    },
    {
     "data": {
      "image/png": "[encoded data removed]",
      "text/plain": [
       "<Figure size 1000x600 with 1 Axes>"
      ]
     },
     "metadata": {},
     "output_type": "display_data"
    },
    {
     "data": {
      "image/png": "[encoded data removed]",
      "text/plain": [
       "<Figure size 1000x600 with 1 Axes>"
      ]
     },
     "metadata": {},
     "output_type": "display_data"
    },
    {
     "data": {
      "image/png": "[encoded data removed]",
      "text/plain": [
       "<Figure size 1000x600 with 1 Axes>"
      ]
     },
     "metadata": {},
     "output_type": "display_data"
    },
    {
     "data": {
      "image/png": "[encoded data removed]",
      "text/plain": [
       "<Figure size 1000x600 with 1 Axes>"
      ]
     },
     "metadata": {},
     "output_type": "display_data"
    },
    {
     "data": {
      "image/png": "[encoded data removed]",
      "text/plain": [
       "<Figure size 1000x600 with 1 Axes>"
      ]
     },
     "metadata": {},
     "output_type": "display_data"
    },
    {
     "data": {
      "image/png": "[encoded data removed]",
      "text/plain": [
       "<Figure size 1000x600 with 1 Axes>"
      ]
     },
     "metadata": {},
     "output_type": "display_data"
    }
   ],
   "source": [
    "print(cat_cols)\n",
    "origin_cat_cols = ['Gender', 'Scholarship','Hipertension', 'Diabetes', 'Alcoholism', 'Handcap', 'SMS_received']\n",
    "def show_target_var_relationship(dataframe, col_names, target = 'No-show', plot = False):\n",
    "    if plot:\n",
    "        for col in col_names:\n",
    "            plt.figure(figsize= (10, 6))\n",
    "            sns.countplot(x = col, hue = target, data = dataframe)\n",
    "            plt.title(f\"{col} Değişkenine Göre Randevuya Gelip Gelmeme Oranı\")\n",
    "            plt.xlabel(f\"{col}\")\n",
    "            \n",
    "            plt.show()\n",
    "        \n",
    "show_target_var_relationship(dataframe= df_copy, col_names= origin_cat_cols, plot = True )"
   ]
  },
  {
   "cell_type": "markdown",
   "id": "13fd5ba0",
   "metadata": {},
   "source": [
    "o Yukarıda görüldüğü üzere kategorik değişkenlerin hedef değişken olan No-show (Hastanın gelip gelmemesi, No-Show (Gelmedi)) ilişkisi gösterilmektedir. "
   ]
  },
  {
   "cell_type": "code",
   "execution_count": 16,
   "id": "89696317",
   "metadata": {},
   "outputs": [
    {
     "name": "stdout",
     "output_type": "stream",
     "text": [
      "Neighbourhood\n",
      "JARDIM CAMBURI                 7717\n",
      "MARIA ORTIZ                    5805\n",
      "RESISTÊNCIA                    4431\n",
      "JARDIM DA PENHA                3877\n",
      "ITARARÉ                        3514\n",
      "CENTRO                         3334\n",
      "TABUAZEIRO                     3132\n",
      "SANTA MARTHA                   3131\n",
      "JESUS DE NAZARETH              2853\n",
      "BONFIM                         2773\n",
      "SANTO ANTÔNIO                  2746\n",
      "SANTO ANDRÉ                    2571\n",
      "CARATOÍRA                      2565\n",
      "JABOUR                         2509\n",
      "SÃO PEDRO                      2448\n",
      "ILHA DO PRÍNCIPE               2266\n",
      "NOVA PALESTINA                 2264\n",
      "ANDORINHAS                     2262\n",
      "DA PENHA                       2217\n",
      "ROMÃO                          2215\n",
      "GURIGICA                       2018\n",
      "SÃO JOSÉ                       1977\n",
      "BELA VISTA                     1907\n",
      "MARUÍPE                        1902\n",
      "FORTE SÃO JOÃO                 1889\n",
      "ILHA DE SANTA MARIA            1885\n",
      "SÃO CRISTÓVÃO                  1836\n",
      "REDENÇÃO                       1553\n",
      "SÃO BENEDITO                   1439\n",
      "JOANA D´ARC                    1427\n",
      "CRUZAMENTO                     1398\n",
      "CONSOLAÇÃO                     1376\n",
      "SANTA TEREZA                   1332\n",
      "PRAIA DO SUÁ                   1288\n",
      "SANTOS DUMONT                  1276\n",
      "ILHA DAS CAIEIRAS              1071\n",
      "GRANDE VITÓRIA                 1071\n",
      "INHANGUETÁ                     1057\n",
      "PRAIA DO CANTO                 1035\n",
      "BENTO FERREIRA                  858\n",
      "VILA RUBIM                      851\n",
      "DO QUADRO                       849\n",
      "CONQUISTA                       849\n",
      "REPÚBLICA                       835\n",
      "MONTE BELO                      824\n",
      "PARQUE MOSCOSO                  802\n",
      "GOIABEIRAS                      700\n",
      "JUCUTUQUARA                     694\n",
      "FONTE GRANDE                    682\n",
      "MATA DA PRAIA                   644\n",
      "DO CABRAL                       560\n",
      "SANTOS REIS                     547\n",
      "ESTRELINHA                      538\n",
      "SANTA CLARA                     506\n",
      "SOLON BORGES                    469\n",
      "PIEDADE                         452\n",
      "SANTA CECÍLIA                   448\n",
      "SANTA LÚCIA                     438\n",
      "SANTA LUÍZA                     428\n",
      "BARRO VERMELHO                  423\n",
      "DO MOSCOSO                      413\n",
      "MÁRIO CYPRESTE                  371\n",
      "BOA VISTA                       312\n",
      "COMDUSA                         310\n",
      "DE LOURDES                      305\n",
      "ARIOVALDO FAVALESSA             282\n",
      "ANTÔNIO HONÓRIO                 271\n",
      "FRADINHOS                       258\n",
      "ENSEADA DO SUÁ                  235\n",
      "SANTA HELENA                    178\n",
      "HORTO                           175\n",
      "UNIVERSITÁRIO                   152\n",
      "SEGURANÇA DO LAR                145\n",
      "NAZARETH                        135\n",
      "MORADA DE CAMBURI                96\n",
      "PONTAL DE CAMBURI                69\n",
      "ILHA DO BOI                      35\n",
      "ILHA DO FRADE                    10\n",
      "AEROPORTO                         8\n",
      "ILHAS OCEÂNICAS DE TRINDADE       2\n",
      "PARQUE INDUSTRIAL                 1\n",
      "Name: count, dtype: int64\n"
     ]
    }
   ],
   "source": [
    "# Neighbourhood\n",
    "df_copy[\"Neighbourhood\"].value_counts()\n",
    "\n",
    "df_copy[\"Neighbourhood\"].nunique() # 81\n",
    "\n",
    "sorted_neighbourhoods = df_copy[\"Neighbourhood\"].value_counts().sort_values(ascending=False)\n",
    "\n",
    "print(sorted_neighbourhoods)\n"
   ]
  },
  {
   "cell_type": "code",
   "execution_count": 17,
   "id": "35b88c15",
   "metadata": {},
   "outputs": [
    {
     "name": "stdout",
     "output_type": "stream",
     "text": [
      "Neighborhoods Ortalaması:  1364\n"
     ]
    }
   ],
   "source": [
    "mean_neighborhoods = int(sorted_neighbourhoods.mean()) # 1364.53 int'e çevirelim\n",
    "print(\"Neighborhoods Ortalaması: \", mean_neighborhoods)\n"
   ]
  },
  {
   "cell_type": "code",
   "execution_count": 18,
   "id": "67a519c9",
   "metadata": {},
   "outputs": [
    {
     "data": {
      "image/png": "[encoded data removed]",
      "text/plain": [
       "<Figure size 640x480 with 2 Axes>"
      ]
     },
     "metadata": {},
     "output_type": "display_data"
    }
   ],
   "source": [
    "correlation_matrix = df_copy.corr(numeric_only= True)\n",
    "sns.heatmap(correlation_matrix, annot= True, cmap=\"coolwarm\")\n",
    "plt.title(\"Korelasyon Matrisi\")\n",
    "plt.show()\n",
    "\n",
    "# df_copy[[\"Age\", \"Hipertension\", \"Diabetes\", \"Scholarship\"]].corr()"
   ]
  },
  {
   "cell_type": "markdown",
   "id": "adf3cc6a",
   "metadata": {},
   "source": [
    "o Yukarıda görünene göre değişkenler arasında çok güçlü bir ilişki yoktur. En çok Age değişkeni ile hipertension değişkeni arasında %50'lik bir pozitif ilişki mevcuttur.\n",
    "\n",
    "o Ardından hipertension ile diabetes değişkeni arasında %43'lük pozitif yönlü bir ilişki mevcuttur. \n",
    "\n",
    "o Diğer ilişkiler arasında negatif veya pozitif yönlü güçlü bir ilişki bulunmamaktadır.\n",
    "\n",
    "o Ancak bu bir yanılgıdır, çünkü kategorik değişken olup nümerik gibi davranan değişkenler bulunmaktadır.\n",
    "İlerleyen kodlarda bunların veri tipin değiştireceğiz.\n",
    "\n"
   ]
  },
  {
   "cell_type": "code",
   "execution_count": 19,
   "id": "a60403ce",
   "metadata": {},
   "outputs": [
    {
     "name": "stdout",
     "output_type": "stream",
     "text": [
      "Birinci Çeyrek Değeri: 18.0\n",
      "Üçüncü Çeyrek Değeri: 55.0\n",
      "Çeyrekler Arası Fark: 37.0 \n",
      "Aykırı Değer Sayılabilmesi İçin Gereken Alt Limit Eşiği: -37.5\n",
      "Aykırı Değer Sayılabilmesi İçin Gereken Üst Limit Eşiği: 110.5\n"
     ]
    }
   ],
   "source": [
    "# Outlier Detection\n",
    "q1 = df_copy[\"Age\"].quantile(0.25)\n",
    "q3 = df_copy[\"Age\"].quantile(0.75)\n",
    "\n",
    "IQR = q3 - q1\n",
    "print(f\"Birinci Çeyrek Değeri: {q1}\\nÜçüncü Çeyrek Değeri: {q3}\\nÇeyrekler Arası Fark: {IQR} \")\n",
    "\n",
    "upper_bound = q3 + 1.5 * IQR \n",
    "lower_bound = q1 - 1.5 * IQR\n",
    "print(f\"Aykırı Değer Sayılabilmesi İçin Gereken Alt Limit Eşiği: {lower_bound}\")\n",
    "print(f\"Aykırı Değer Sayılabilmesi İçin Gereken Üst Limit Eşiği: {upper_bound}\")\n",
    "\n",
    "# Note: Age değişkeni sıfırdan küçük olamaz, bunun için aykırı değer olarak lower_bound'ı dikkate almaya gerek kalmaz.\n",
    "\n",
    "\n",
    "def detect_outlier(dataframe, col_name, Q1 = 0.25, Q3 = 0.75):\n",
    "    pass"
   ]
  },
  {
   "cell_type": "code",
   "execution_count": 21,
   "id": "34badf32",
   "metadata": {},
   "outputs": [
    {
     "name": "stdout",
     "output_type": "stream",
     "text": [
      "Scholarship değişkeninin veri türü zaten object\n",
      "Hipertension değişkeninin veri türü zaten object\n",
      "Diabetes değişkeninin veri türü zaten object\n",
      "Alcoholism değişkeninin veri türü zaten object\n",
      "Handcap değişkeninin veri türü zaten object\n",
      "SMS_received değişkeninin veri türü zaten object\n"
     ]
    }
   ],
   "source": [
    "# Convert Alcoholism's type \n",
    "df_copy[\"Alcoholism\"] = df_copy[\"Alcoholism\"].astype(\"object\")\n",
    "df_copy[\"Alcoholism\"].dtype\n",
    "\n",
    "# create a function\n",
    "def convert_to_object(dataframe, num_but_cat):\n",
    "    for col in num_but_cat:\n",
    "        if dataframe[col].dtype != \"object\":\n",
    "            dataframe[col] = dataframe[col].astype(\"object\")\n",
    "            print(f\"{col} değişkeninin yeni veri tipi {dataframe[col].dtype}\")\n",
    "        else:\n",
    "            print(f\"{col} değişkeninin veri türü zaten {dataframe[col].dtype}\")\n",
    "\n",
    "convert_to_object(dataframe= df_copy, num_but_cat= num_but_cat)\n"
   ]
  },
  {
   "cell_type": "code",
   "execution_count": 23,
   "id": "a3a4b02d",
   "metadata": {},
   "outputs": [
    {
     "name": "stdout",
     "output_type": "stream",
     "text": [
      "['Gender', 'ScheduledDay', 'No-show', 'Scholarship', 'Hipertension', 'Diabetes', 'Alcoholism', 'Handcap', 'SMS_received']\n",
      "['Gender', 'ScheduledDay', 'No-show', 'Scholarship', 'Hipertension', 'Diabetes', 'Alcoholism', 'Handcap', 'SMS_received']\n"
     ]
    }
   ],
   "source": [
    "print(cat_cols)\n",
    "cat_cols = [col for col in cat_cols if col not in [\"Neighbourhood\", \"AppointmentDay\",\"ScheduleDay\"]]\n",
    "print(cat_cols)\n",
    "# show_countplot(dataframe= df_copy, cat_cols = ['Gender', 'ScheduledDay', 'No-show', 'Scholarship', 'Hipertension', 'Diabetes', 'Alcoholism', 'Handcap', 'SMS_received'], plot = True )\n"
   ]
  },
  {
   "cell_type": "markdown",
   "id": "348b2c67",
   "metadata": {},
   "source": [
    "# Feature Extraction\n",
    "Bu veri setinde tarih değişkeni olup object türünde görünen değişkenler yer almaktadır. Bunun için bu değişkenlerin veri tipini datetime'a çevirebiliriz.\n",
    "\n",
    "Bu çevrilen tarih değişkenlerinden de Yıl, Ay, Gün, Saat, Dakika vb. bilgileri yeni bir değişken olarak ortaya çıkarabiliriz.\n",
    "\n",
    "Yaş ve cinsiyete göre bir eşleşme gerçekleştirerek gruplama gerçekleştirebiliriz. Bu işlemden önce cinsiyet değişkenini label encoding veya one hot encoding (drop_first = True) olacak şekilde standartlaştırabiliriz, bu aşamadan sonra yeni değişkenler oluşturabiliriz.\n"
   ]
  },
  {
   "cell_type": "code",
   "execution_count": 24,
   "id": "63e29469",
   "metadata": {},
   "outputs": [
    {
     "name": "stdout",
     "output_type": "stream",
     "text": [
      "['Gender', 'Scholarship', 'Hipertension', 'Diabetes', 'Alcoholism', 'SMS_received', 'No-show']\n",
      "['Handcap']\n",
      "['Gender', 'Scholarship', 'Hipertension', 'Diabetes', 'Alcoholism', 'SMS_received', 'No-show']\n",
      "['ScheduledDay', 'AppointmentDay']\n",
      "ScheduledDay değişkeni tarih değişkeni olabilir. Dönüşüm sonucu datetime64[ns, UTC]\n",
      "AppointmentDay değişkeni tarih değişkeni olabilir. Dönüşüm sonucu datetime64[ns, UTC]\n"
     ]
    }
   ],
   "source": [
    "# Label encoding or One Hot Encoding\n",
    "# One Hot Encoding\n",
    "binary_cols = [col for col in df_copy.columns if df_copy[col].nunique() == 2 and\n",
    "               df_copy[col].dtype == \"O\"]\n",
    "ohe_cols = [col for col in df_copy.columns if 10 > df_copy[col].nunique() >2 and\n",
    "               df_copy[col].dtype == \"O\"]\n",
    "\n",
    "print(binary_cols)\n",
    "print(ohe_cols)\n",
    "\n",
    "binary_cols_not_in_target = [col for col in binary_cols if \"No-show\" not in col]\n",
    "print(binary_cols)\n",
    "\n",
    "date_cols = [\"ScheduledDay\",\"AppointmentDay\"]\n",
    "print(date_cols)\n",
    "\n",
    "\"\"\"\n",
    "İlkel bir şekilde gerçekleştirmeyi denersek ...\n",
    "for col in date_cols:\n",
    "    col = pd.to_datetime(df_copy[col])\n",
    "    print(f\"{col} değişkeninin veri tipi {col.dtype} 'a dönüştürüldü\")\n",
    "    \n",
    "\"\"\"        \n",
    "# in a programmatic way(Programatik bir şekilde)\n",
    "def object_to_datetime(dataframe, date_cols):\n",
    "     for col in date_cols:\n",
    "        try:\n",
    "            dataframe[col] = pd.to_datetime(dataframe[col], errors=\"coerce\") \n",
    "            print(f\"{col} değişkeni tarih değişkeni olabilir. Dönüşüm sonucu {dataframe[col].dtype}\")\n",
    "        except (ValueError, TypeError) as err:\n",
    "            print(f\"Dönüşüm Gerçekleştirilemedi. Hatanın nedeni de {err}\")\n",
    "        \n",
    "    \n",
    "object_to_datetime(dataframe= df_copy, date_cols= date_cols)"
   ]
  },
  {
   "cell_type": "code",
   "execution_count": 25,
   "id": "b322756e",
   "metadata": {},
   "outputs": [],
   "source": [
    "def one_hot_encoder(dataframe, binary_cols, drop_first = True):\n",
    "    \n",
    "    dataframe = pd.get_dummies(dataframe, columns = binary_cols, drop_first= drop_first)\n",
    "    return dataframe\n",
    "\n",
    "one_hot_encoder(dataframe= df_copy, binary_cols =binary_cols)\n",
    "\n",
    "df_ohe = one_hot_encoder(dataframe= df_copy, binary_cols =binary_cols)\n"
   ]
  },
  {
   "cell_type": "code",
   "execution_count": 26,
   "id": "bf013a12",
   "metadata": {},
   "outputs": [
    {
     "name": "stdout",
     "output_type": "stream",
     "text": [
      "Handcap\n",
      "0          108286\n",
      "1            2042\n",
      "Rare          199\n",
      "Name: count, dtype: int64\n"
     ]
    }
   ],
   "source": [
    "df_copy[\"Handcap\"].value_counts(normalize= True) # rare encoding yapılabilir\n",
    "# Eşik değerinden düşük orana sahip olanları rare altında toplayan fonksiyonu yazalım\n",
    "def rare_encoder(dataframe, col_name, rare_perc = 0.01):\n",
    "    value_counts = dataframe[col_name].value_counts(normalize = True) # oranı verir\n",
    "    rare_labels = value_counts[value_counts < rare_perc].index # değişkenin kendisini verir\n",
    "    # Eşik değerden düşükleri Rare grubu altında topla\n",
    "    dataframe[col_name] = dataframe[col_name].apply(lambda x: \"Rare\" if x in rare_labels else x)\n",
    "    \n",
    "    return dataframe\n",
    "\n",
    "df_rare_encoded = rare_encoder(df_copy, \"Handcap\", rare_perc = 0.01)\n",
    "print(df_rare_encoded[ohe_cols].value_counts())\n",
    "\n"
   ]
  },
  {
   "cell_type": "code",
   "execution_count": 27,
   "id": "ad381ce8",
   "metadata": {},
   "outputs": [
    {
     "name": "stdout",
     "output_type": "stream",
     "text": [
      "['ScheduledDay', 'AppointmentDay']\n"
     ]
    }
   ],
   "source": [
    "# Feture Extraction (Özellik Çıkartma)\n",
    "from datetime import datetime as dt\n",
    "print(date_cols)"
   ]
  },
  {
   "cell_type": "code",
   "execution_count": 28,
   "id": "c9f49f88",
   "metadata": {},
   "outputs": [
    {
     "name": "stdout",
     "output_type": "stream",
     "text": [
      "datetime64[ns, UTC]\n"
     ]
    },
    {
     "data": {
      "application/vnd.microsoft.datawrangler.viewer.v0+json": {
       "columns": [
        {
         "name": "PatientId",
         "rawType": "float64",
         "type": "float"
        },
        {
         "name": "ScheduledDay",
         "rawType": "datetime64[ns, UTC]",
         "type": "unknown"
        },
        {
         "name": "AppointmentDay",
         "rawType": "datetime64[ns, UTC]",
         "type": "unknown"
        },
        {
         "name": "Age",
         "rawType": "int64",
         "type": "integer"
        },
        {
         "name": "Neighbourhood",
         "rawType": "object",
         "type": "string"
        },
        {
         "name": "Handcap",
         "rawType": "object",
         "type": "unknown"
        },
        {
         "name": "Gender_M",
         "rawType": "bool",
         "type": "boolean"
        },
        {
         "name": "Scholarship_1",
         "rawType": "bool",
         "type": "boolean"
        },
        {
         "name": "Hipertension_1",
         "rawType": "bool",
         "type": "boolean"
        },
        {
         "name": "Diabetes_1",
         "rawType": "bool",
         "type": "boolean"
        },
        {
         "name": "Alcoholism_1",
         "rawType": "bool",
         "type": "boolean"
        },
        {
         "name": "SMS_received_1",
         "rawType": "bool",
         "type": "boolean"
        },
        {
         "name": "No-show_Yes",
         "rawType": "bool",
         "type": "boolean"
        },
        {
         "name": "Appointment_Year",
         "rawType": "int32",
         "type": "integer"
        },
        {
         "name": "Appointment_Month",
         "rawType": "int32",
         "type": "integer"
        },
        {
         "name": "Appointment_Day",
         "rawType": "int32",
         "type": "integer"
        },
        {
         "name": "Appointment_Day_Name",
         "rawType": "object",
         "type": "string"
        },
        {
         "name": "Schedule_Year",
         "rawType": "int32",
         "type": "integer"
        },
        {
         "name": "Schedule_Month",
         "rawType": "int32",
         "type": "integer"
        },
        {
         "name": "Schedule_Day",
         "rawType": "int32",
         "type": "integer"
        },
        {
         "name": "Schedule_Day_Name",
         "rawType": "object",
         "type": "string"
        },
        {
         "name": "Schedule_Hour",
         "rawType": "int32",
         "type": "integer"
        },
        {
         "name": "Schedule_Minutes",
         "rawType": "int32",
         "type": "integer"
        }
       ],
       "ref": "7f9bac0c-20a1-402e-ae7e-86c5b9cba918",
       "rows": [
        [
         "29872499824296.0",
         "2016-04-29 18:38:08+00:00",
         "2016-04-29 00:00:00+00:00",
         "62",
         "JARDIM DA PENHA",
         "0",
         "False",
         "False",
         "True",
         "False",
         "False",
         "False",
         "False",
         "2016",
         "4",
         "29",
         "Friday",
         "2016",
         "4",
         "29",
         "Friday",
         "18",
         "38"
        ],
        [
         "558997776694438.0",
         "2016-04-29 16:08:27+00:00",
         "2016-04-29 00:00:00+00:00",
         "56",
         "JARDIM DA PENHA",
         "0",
         "True",
         "False",
         "False",
         "False",
         "False",
         "False",
         "False",
         "2016",
         "4",
         "29",
         "Friday",
         "2016",
         "4",
         "29",
         "Friday",
         "16",
         "8"
        ],
        [
         "4262962299951.0",
         "2016-04-29 16:19:04+00:00",
         "2016-04-29 00:00:00+00:00",
         "62",
         "MATA DA PRAIA",
         "0",
         "False",
         "False",
         "False",
         "False",
         "False",
         "False",
         "False",
         "2016",
         "4",
         "29",
         "Friday",
         "2016",
         "4",
         "29",
         "Friday",
         "16",
         "19"
        ],
        [
         "867951213174.0",
         "2016-04-29 17:29:31+00:00",
         "2016-04-29 00:00:00+00:00",
         "8",
         "PONTAL DE CAMBURI",
         "0",
         "False",
         "False",
         "False",
         "False",
         "False",
         "False",
         "False",
         "2016",
         "4",
         "29",
         "Friday",
         "2016",
         "4",
         "29",
         "Friday",
         "17",
         "29"
        ],
        [
         "8841186448183.0",
         "2016-04-29 16:07:23+00:00",
         "2016-04-29 00:00:00+00:00",
         "56",
         "JARDIM DA PENHA",
         "0",
         "False",
         "False",
         "True",
         "True",
         "False",
         "False",
         "False",
         "2016",
         "4",
         "29",
         "Friday",
         "2016",
         "4",
         "29",
         "Friday",
         "16",
         "7"
        ]
       ],
       "shape": {
        "columns": 22,
        "rows": 5
       }
      },
      "text/html": [
       "<div>\n",
       "<style scoped>\n",
       "    .dataframe tbody tr th:only-of-type {\n",
       "        vertical-align: middle;\n",
       "    }\n",
       "\n",
       "    .dataframe tbody tr th {\n",
       "        vertical-align: top;\n",
       "    }\n",
       "\n",
       "    .dataframe thead th {\n",
       "        text-align: right;\n",
       "    }\n",
       "</style>\n",
       "<table border=\"1\" class=\"dataframe\">\n",
       "  <thead>\n",
       "    <tr style=\"text-align: right;\">\n",
       "      <th></th>\n",
       "      <th>ScheduledDay</th>\n",
       "      <th>AppointmentDay</th>\n",
       "      <th>Age</th>\n",
       "      <th>Neighbourhood</th>\n",
       "      <th>Handcap</th>\n",
       "      <th>Gender_M</th>\n",
       "      <th>Scholarship_1</th>\n",
       "      <th>Hipertension_1</th>\n",
       "      <th>Diabetes_1</th>\n",
       "      <th>Alcoholism_1</th>\n",
       "      <th>SMS_received_1</th>\n",
       "      <th>No-show_Yes</th>\n",
       "      <th>Appointment_Year</th>\n",
       "      <th>Appointment_Month</th>\n",
       "      <th>Appointment_Day</th>\n",
       "      <th>Appointment_Day_Name</th>\n",
       "      <th>Schedule_Year</th>\n",
       "      <th>Schedule_Month</th>\n",
       "      <th>Schedule_Day</th>\n",
       "      <th>Schedule_Day_Name</th>\n",
       "      <th>Schedule_Hour</th>\n",
       "      <th>Schedule_Minutes</th>\n",
       "    </tr>\n",
       "    <tr>\n",
       "      <th>PatientId</th>\n",
       "      <th></th>\n",
       "      <th></th>\n",
       "      <th></th>\n",
       "      <th></th>\n",
       "      <th></th>\n",
       "      <th></th>\n",
       "      <th></th>\n",
       "      <th></th>\n",
       "      <th></th>\n",
       "      <th></th>\n",
       "      <th></th>\n",
       "      <th></th>\n",
       "      <th></th>\n",
       "      <th></th>\n",
       "      <th></th>\n",
       "      <th></th>\n",
       "      <th></th>\n",
       "      <th></th>\n",
       "      <th></th>\n",
       "      <th></th>\n",
       "      <th></th>\n",
       "      <th></th>\n",
       "    </tr>\n",
       "  </thead>\n",
       "  <tbody>\n",
       "    <tr>\n",
       "      <th>29872499824296.000</th>\n",
       "      <td>2016-04-29 18:38:08+00:00</td>\n",
       "      <td>2016-04-29 00:00:00+00:00</td>\n",
       "      <td>62</td>\n",
       "      <td>JARDIM DA PENHA</td>\n",
       "      <td>0</td>\n",
       "      <td>False</td>\n",
       "      <td>False</td>\n",
       "      <td>True</td>\n",
       "      <td>False</td>\n",
       "      <td>False</td>\n",
       "      <td>False</td>\n",
       "      <td>False</td>\n",
       "      <td>2016</td>\n",
       "      <td>4</td>\n",
       "      <td>29</td>\n",
       "      <td>Friday</td>\n",
       "      <td>2016</td>\n",
       "      <td>4</td>\n",
       "      <td>29</td>\n",
       "      <td>Friday</td>\n",
       "      <td>18</td>\n",
       "      <td>38</td>\n",
       "    </tr>\n",
       "    <tr>\n",
       "      <th>558997776694438.000</th>\n",
       "      <td>2016-04-29 16:08:27+00:00</td>\n",
       "      <td>2016-04-29 00:00:00+00:00</td>\n",
       "      <td>56</td>\n",
       "      <td>JARDIM DA PENHA</td>\n",
       "      <td>0</td>\n",
       "      <td>True</td>\n",
       "      <td>False</td>\n",
       "      <td>False</td>\n",
       "      <td>False</td>\n",
       "      <td>False</td>\n",
       "      <td>False</td>\n",
       "      <td>False</td>\n",
       "      <td>2016</td>\n",
       "      <td>4</td>\n",
       "      <td>29</td>\n",
       "      <td>Friday</td>\n",
       "      <td>2016</td>\n",
       "      <td>4</td>\n",
       "      <td>29</td>\n",
       "      <td>Friday</td>\n",
       "      <td>16</td>\n",
       "      <td>8</td>\n",
       "    </tr>\n",
       "    <tr>\n",
       "      <th>4262962299951.000</th>\n",
       "      <td>2016-04-29 16:19:04+00:00</td>\n",
       "      <td>2016-04-29 00:00:00+00:00</td>\n",
       "      <td>62</td>\n",
       "      <td>MATA DA PRAIA</td>\n",
       "      <td>0</td>\n",
       "      <td>False</td>\n",
       "      <td>False</td>\n",
       "      <td>False</td>\n",
       "      <td>False</td>\n",
       "      <td>False</td>\n",
       "      <td>False</td>\n",
       "      <td>False</td>\n",
       "      <td>2016</td>\n",
       "      <td>4</td>\n",
       "      <td>29</td>\n",
       "      <td>Friday</td>\n",
       "      <td>2016</td>\n",
       "      <td>4</td>\n",
       "      <td>29</td>\n",
       "      <td>Friday</td>\n",
       "      <td>16</td>\n",
       "      <td>19</td>\n",
       "    </tr>\n",
       "    <tr>\n",
       "      <th>867951213174.000</th>\n",
       "      <td>2016-04-29 17:29:31+00:00</td>\n",
       "      <td>2016-04-29 00:00:00+00:00</td>\n",
       "      <td>8</td>\n",
       "      <td>PONTAL DE CAMBURI</td>\n",
       "      <td>0</td>\n",
       "      <td>False</td>\n",
       "      <td>False</td>\n",
       "      <td>False</td>\n",
       "      <td>False</td>\n",
       "      <td>False</td>\n",
       "      <td>False</td>\n",
       "      <td>False</td>\n",
       "      <td>2016</td>\n",
       "      <td>4</td>\n",
       "      <td>29</td>\n",
       "      <td>Friday</td>\n",
       "      <td>2016</td>\n",
       "      <td>4</td>\n",
       "      <td>29</td>\n",
       "      <td>Friday</td>\n",
       "      <td>17</td>\n",
       "      <td>29</td>\n",
       "    </tr>\n",
       "    <tr>\n",
       "      <th>8841186448183.000</th>\n",
       "      <td>2016-04-29 16:07:23+00:00</td>\n",
       "      <td>2016-04-29 00:00:00+00:00</td>\n",
       "      <td>56</td>\n",
       "      <td>JARDIM DA PENHA</td>\n",
       "      <td>0</td>\n",
       "      <td>False</td>\n",
       "      <td>False</td>\n",
       "      <td>True</td>\n",
       "      <td>True</td>\n",
       "      <td>False</td>\n",
       "      <td>False</td>\n",
       "      <td>False</td>\n",
       "      <td>2016</td>\n",
       "      <td>4</td>\n",
       "      <td>29</td>\n",
       "      <td>Friday</td>\n",
       "      <td>2016</td>\n",
       "      <td>4</td>\n",
       "      <td>29</td>\n",
       "      <td>Friday</td>\n",
       "      <td>16</td>\n",
       "      <td>7</td>\n",
       "    </tr>\n",
       "  </tbody>\n",
       "</table>\n",
       "</div>"
      ],
      "text/plain": [
       "                                 ScheduledDay            AppointmentDay  Age      Neighbourhood Handcap  Gender_M  Scholarship_1  Hipertension_1  Diabetes_1  Alcoholism_1  SMS_received_1  No-show_Yes  Appointment_Year  Appointment_Month  Appointment_Day Appointment_Day_Name  Schedule_Year  Schedule_Month  Schedule_Day Schedule_Day_Name  Schedule_Hour  Schedule_Minutes\n",
       "PatientId                                                                                                                                                                                                                                                                                                                                                                         \n",
       "29872499824296.000  2016-04-29 18:38:08+00:00 2016-04-29 00:00:00+00:00   62    JARDIM DA PENHA       0     False          False            True       False         False           False        False              2016                  4               29               Friday           2016               4            29            Friday             18                38\n",
       "558997776694438.000 2016-04-29 16:08:27+00:00 2016-04-29 00:00:00+00:00   56    JARDIM DA PENHA       0      True          False           False       False         False           False        False              2016                  4               29               Friday           2016               4            29            Friday             16                 8\n",
       "4262962299951.000   2016-04-29 16:19:04+00:00 2016-04-29 00:00:00+00:00   62      MATA DA PRAIA       0     False          False           False       False         False           False        False              2016                  4               29               Friday           2016               4            29            Friday             16                19\n",
       "867951213174.000    2016-04-29 17:29:31+00:00 2016-04-29 00:00:00+00:00    8  PONTAL DE CAMBURI       0     False          False           False       False         False           False        False              2016                  4               29               Friday           2016               4            29            Friday             17                29\n",
       "8841186448183.000   2016-04-29 16:07:23+00:00 2016-04-29 00:00:00+00:00   56    JARDIM DA PENHA       0     False          False            True        True         False           False        False              2016                  4               29               Friday           2016               4            29            Friday             16                 7"
      ]
     },
     "execution_count": 28,
     "metadata": {},
     "output_type": "execute_result"
    }
   ],
   "source": [
    "print(df_ohe['AppointmentDay'].dtype)\n",
    "\n",
    "# Year\n",
    "df_ohe['Appointment_Year'] = df_ohe['AppointmentDay'].dt.year \n",
    "\n",
    "# Month\n",
    "df_ohe['Appointment_Month'] = df_ohe['AppointmentDay'].dt.month \n",
    "\n",
    "# Day\n",
    "df_ohe['Appointment_Day'] = df_ohe['AppointmentDay'].dt.day \n",
    "\n",
    "# Day name\n",
    "df_ohe['Appointment_Day_Name'] = df_ohe['AppointmentDay'].dt.day_name()\n",
    "\n",
    "\n",
    "# Year, Month, Day, Day_Name\n",
    "df_ohe['Schedule_Year'] = df_ohe['ScheduledDay'].dt.year\n",
    "df_ohe['Schedule_Month'] = df_ohe['ScheduledDay'].dt.month\n",
    "df_ohe['Schedule_Day'] = df_ohe['ScheduledDay'].dt.day\n",
    "df_ohe['Schedule_Day_Name'] = df_ohe['ScheduledDay'].dt.day_name()\n",
    "\n",
    "# Hour, Minute\n",
    "df_ohe['Schedule_Hour'] = df_ohe['ScheduledDay'].dt.hour\n",
    "df_ohe['Schedule_Minutes'] = df_ohe['ScheduledDay'].dt.minute\n",
    "df_ohe.head()\n",
    "\n",
    " \n"
   ]
  },
  {
   "cell_type": "code",
   "execution_count": 29,
   "id": "4d631a81",
   "metadata": {},
   "outputs": [
    {
     "data": {
      "application/vnd.microsoft.datawrangler.viewer.v0+json": {
       "columns": [
        {
         "name": "index",
         "rawType": "object",
         "type": "string"
        },
        {
         "name": "Appointment_Diff",
         "rawType": "float64",
         "type": "float"
        }
       ],
       "ref": "4795fff1-6415-4c76-a778-fb5b0ecef1dd",
       "rows": [
        [
         "count",
         "38568.0"
        ],
        [
         "mean",
         "-1.0002592823065755"
        ]
       ],
       "shape": {
        "columns": 1,
        "rows": 2
       }
      },
      "text/html": [
       "<div>\n",
       "<style scoped>\n",
       "    .dataframe tbody tr th:only-of-type {\n",
       "        vertical-align: middle;\n",
       "    }\n",
       "\n",
       "    .dataframe tbody tr th {\n",
       "        vertical-align: top;\n",
       "    }\n",
       "\n",
       "    .dataframe thead th {\n",
       "        text-align: right;\n",
       "    }\n",
       "</style>\n",
       "<table border=\"1\" class=\"dataframe\">\n",
       "  <thead>\n",
       "    <tr style=\"text-align: right;\">\n",
       "      <th></th>\n",
       "      <th>Appointment_Diff</th>\n",
       "    </tr>\n",
       "  </thead>\n",
       "  <tbody>\n",
       "    <tr>\n",
       "      <th>count</th>\n",
       "      <td>38568.000</td>\n",
       "    </tr>\n",
       "    <tr>\n",
       "      <th>mean</th>\n",
       "      <td>-1.000</td>\n",
       "    </tr>\n",
       "  </tbody>\n",
       "</table>\n",
       "</div>"
      ],
      "text/plain": [
       "       Appointment_Diff\n",
       "count         38568.000\n",
       "mean             -1.000"
      ]
     },
     "execution_count": 29,
     "metadata": {},
     "output_type": "execute_result"
    }
   ],
   "source": [
    "#df_ohe['Appointment_Diff'] = \n",
    "df_ohe['Appointment_Diff'] = (df_ohe['AppointmentDay'] - df_ohe['ScheduledDay']).dt.days\n",
    "#df_ohe.head(10)\n",
    "\n",
    "# Negatif değerler mevcut, bunları abs ile değiştirebiliriz.\n",
    "\n",
    "df_ohe[(df_ohe['Appointment_Diff'] < 0)].agg({\n",
    "    \"Appointment_Diff\": [\"count\", \"mean\"]\n",
    "})\n",
    "\n",
    "\n"
   ]
  },
  {
   "cell_type": "code",
   "execution_count": 30,
   "id": "a773369b",
   "metadata": {},
   "outputs": [
    {
     "data": {
      "application/vnd.microsoft.datawrangler.viewer.v0+json": {
       "columns": [
        {
         "name": "index",
         "rawType": "object",
         "type": "string"
        },
        {
         "name": "Appointment_Diff",
         "rawType": "float64",
         "type": "float"
        }
       ],
       "ref": "0cdf999c-a752-4862-80fc-2e1987f4fd00",
       "rows": [
        [
         "count",
         "71959.0"
        ],
        [
         "mean",
         "14.642018371572702"
        ]
       ],
       "shape": {
        "columns": 1,
        "rows": 2
       }
      },
      "text/html": [
       "<div>\n",
       "<style scoped>\n",
       "    .dataframe tbody tr th:only-of-type {\n",
       "        vertical-align: middle;\n",
       "    }\n",
       "\n",
       "    .dataframe tbody tr th {\n",
       "        vertical-align: top;\n",
       "    }\n",
       "\n",
       "    .dataframe thead th {\n",
       "        text-align: right;\n",
       "    }\n",
       "</style>\n",
       "<table border=\"1\" class=\"dataframe\">\n",
       "  <thead>\n",
       "    <tr style=\"text-align: right;\">\n",
       "      <th></th>\n",
       "      <th>Appointment_Diff</th>\n",
       "    </tr>\n",
       "  </thead>\n",
       "  <tbody>\n",
       "    <tr>\n",
       "      <th>count</th>\n",
       "      <td>71959.000</td>\n",
       "    </tr>\n",
       "    <tr>\n",
       "      <th>mean</th>\n",
       "      <td>14.642</td>\n",
       "    </tr>\n",
       "  </tbody>\n",
       "</table>\n",
       "</div>"
      ],
      "text/plain": [
       "       Appointment_Diff\n",
       "count         71959.000\n",
       "mean             14.642"
      ]
     },
     "execution_count": 30,
     "metadata": {},
     "output_type": "execute_result"
    }
   ],
   "source": [
    "df_ohe[(df_ohe['Appointment_Diff'] >= 0)].agg({\n",
    "    \"Appointment_Diff\": [\"count\", \"mean\"]\n",
    "})"
   ]
  },
  {
   "cell_type": "code",
   "execution_count": 31,
   "id": "e8e4a388",
   "metadata": {},
   "outputs": [
    {
     "data": {
      "application/vnd.microsoft.datawrangler.viewer.v0+json": {
       "columns": [
        {
         "name": "PatientId",
         "rawType": "float64",
         "type": "float"
        },
        {
         "name": "ScheduledDay",
         "rawType": "datetime64[ns, UTC]",
         "type": "unknown"
        },
        {
         "name": "AppointmentDay",
         "rawType": "datetime64[ns, UTC]",
         "type": "unknown"
        },
        {
         "name": "Age",
         "rawType": "int64",
         "type": "integer"
        },
        {
         "name": "Neighbourhood",
         "rawType": "object",
         "type": "string"
        },
        {
         "name": "Handcap",
         "rawType": "object",
         "type": "unknown"
        },
        {
         "name": "Gender_M",
         "rawType": "bool",
         "type": "boolean"
        },
        {
         "name": "Scholarship_1",
         "rawType": "bool",
         "type": "boolean"
        },
        {
         "name": "Hipertension_1",
         "rawType": "bool",
         "type": "boolean"
        },
        {
         "name": "Diabetes_1",
         "rawType": "bool",
         "type": "boolean"
        },
        {
         "name": "Alcoholism_1",
         "rawType": "bool",
         "type": "boolean"
        },
        {
         "name": "SMS_received_1",
         "rawType": "bool",
         "type": "boolean"
        },
        {
         "name": "No-show_Yes",
         "rawType": "bool",
         "type": "boolean"
        },
        {
         "name": "Appointment_Year",
         "rawType": "int32",
         "type": "integer"
        },
        {
         "name": "Appointment_Month",
         "rawType": "int32",
         "type": "integer"
        },
        {
         "name": "Appointment_Day",
         "rawType": "int32",
         "type": "integer"
        },
        {
         "name": "Appointment_Day_Name",
         "rawType": "object",
         "type": "string"
        },
        {
         "name": "Schedule_Year",
         "rawType": "int32",
         "type": "integer"
        },
        {
         "name": "Schedule_Month",
         "rawType": "int32",
         "type": "integer"
        },
        {
         "name": "Schedule_Day",
         "rawType": "int32",
         "type": "integer"
        },
        {
         "name": "Schedule_Day_Name",
         "rawType": "object",
         "type": "string"
        },
        {
         "name": "Schedule_Hour",
         "rawType": "int32",
         "type": "integer"
        },
        {
         "name": "Schedule_Minutes",
         "rawType": "int32",
         "type": "integer"
        },
        {
         "name": "Appointment_Diff",
         "rawType": "int64",
         "type": "integer"
        },
        {
         "name": "No-show",
         "rawType": "int64",
         "type": "integer"
        }
       ],
       "ref": "53914431-094e-4430-898b-b99d0496f187",
       "rows": [
        [
         "29872499824296.0",
         "2016-04-29 18:38:08+00:00",
         "2016-04-29 00:00:00+00:00",
         "62",
         "JARDIM DA PENHA",
         "0",
         "False",
         "False",
         "True",
         "False",
         "False",
         "False",
         "False",
         "2016",
         "4",
         "29",
         "Friday",
         "2016",
         "4",
         "29",
         "Friday",
         "18",
         "38",
         "-1",
         "0"
        ],
        [
         "558997776694438.0",
         "2016-04-29 16:08:27+00:00",
         "2016-04-29 00:00:00+00:00",
         "56",
         "JARDIM DA PENHA",
         "0",
         "True",
         "False",
         "False",
         "False",
         "False",
         "False",
         "False",
         "2016",
         "4",
         "29",
         "Friday",
         "2016",
         "4",
         "29",
         "Friday",
         "16",
         "8",
         "-1",
         "0"
        ],
        [
         "4262962299951.0",
         "2016-04-29 16:19:04+00:00",
         "2016-04-29 00:00:00+00:00",
         "62",
         "MATA DA PRAIA",
         "0",
         "False",
         "False",
         "False",
         "False",
         "False",
         "False",
         "False",
         "2016",
         "4",
         "29",
         "Friday",
         "2016",
         "4",
         "29",
         "Friday",
         "16",
         "19",
         "-1",
         "0"
        ],
        [
         "867951213174.0",
         "2016-04-29 17:29:31+00:00",
         "2016-04-29 00:00:00+00:00",
         "8",
         "PONTAL DE CAMBURI",
         "0",
         "False",
         "False",
         "False",
         "False",
         "False",
         "False",
         "False",
         "2016",
         "4",
         "29",
         "Friday",
         "2016",
         "4",
         "29",
         "Friday",
         "17",
         "29",
         "-1",
         "0"
        ],
        [
         "8841186448183.0",
         "2016-04-29 16:07:23+00:00",
         "2016-04-29 00:00:00+00:00",
         "56",
         "JARDIM DA PENHA",
         "0",
         "False",
         "False",
         "True",
         "True",
         "False",
         "False",
         "False",
         "2016",
         "4",
         "29",
         "Friday",
         "2016",
         "4",
         "29",
         "Friday",
         "16",
         "7",
         "-1",
         "0"
        ]
       ],
       "shape": {
        "columns": 24,
        "rows": 5
       }
      },
      "text/html": [
       "<div>\n",
       "<style scoped>\n",
       "    .dataframe tbody tr th:only-of-type {\n",
       "        vertical-align: middle;\n",
       "    }\n",
       "\n",
       "    .dataframe tbody tr th {\n",
       "        vertical-align: top;\n",
       "    }\n",
       "\n",
       "    .dataframe thead th {\n",
       "        text-align: right;\n",
       "    }\n",
       "</style>\n",
       "<table border=\"1\" class=\"dataframe\">\n",
       "  <thead>\n",
       "    <tr style=\"text-align: right;\">\n",
       "      <th></th>\n",
       "      <th>ScheduledDay</th>\n",
       "      <th>AppointmentDay</th>\n",
       "      <th>Age</th>\n",
       "      <th>Neighbourhood</th>\n",
       "      <th>Handcap</th>\n",
       "      <th>Gender_M</th>\n",
       "      <th>Scholarship_1</th>\n",
       "      <th>Hipertension_1</th>\n",
       "      <th>Diabetes_1</th>\n",
       "      <th>Alcoholism_1</th>\n",
       "      <th>SMS_received_1</th>\n",
       "      <th>No-show_Yes</th>\n",
       "      <th>Appointment_Year</th>\n",
       "      <th>Appointment_Month</th>\n",
       "      <th>Appointment_Day</th>\n",
       "      <th>Appointment_Day_Name</th>\n",
       "      <th>Schedule_Year</th>\n",
       "      <th>Schedule_Month</th>\n",
       "      <th>Schedule_Day</th>\n",
       "      <th>Schedule_Day_Name</th>\n",
       "      <th>Schedule_Hour</th>\n",
       "      <th>Schedule_Minutes</th>\n",
       "      <th>Appointment_Diff</th>\n",
       "      <th>No-show</th>\n",
       "    </tr>\n",
       "    <tr>\n",
       "      <th>PatientId</th>\n",
       "      <th></th>\n",
       "      <th></th>\n",
       "      <th></th>\n",
       "      <th></th>\n",
       "      <th></th>\n",
       "      <th></th>\n",
       "      <th></th>\n",
       "      <th></th>\n",
       "      <th></th>\n",
       "      <th></th>\n",
       "      <th></th>\n",
       "      <th></th>\n",
       "      <th></th>\n",
       "      <th></th>\n",
       "      <th></th>\n",
       "      <th></th>\n",
       "      <th></th>\n",
       "      <th></th>\n",
       "      <th></th>\n",
       "      <th></th>\n",
       "      <th></th>\n",
       "      <th></th>\n",
       "      <th></th>\n",
       "      <th></th>\n",
       "    </tr>\n",
       "  </thead>\n",
       "  <tbody>\n",
       "    <tr>\n",
       "      <th>29872499824296.000</th>\n",
       "      <td>2016-04-29 18:38:08+00:00</td>\n",
       "      <td>2016-04-29 00:00:00+00:00</td>\n",
       "      <td>62</td>\n",
       "      <td>JARDIM DA PENHA</td>\n",
       "      <td>0</td>\n",
       "      <td>False</td>\n",
       "      <td>False</td>\n",
       "      <td>True</td>\n",
       "      <td>False</td>\n",
       "      <td>False</td>\n",
       "      <td>False</td>\n",
       "      <td>False</td>\n",
       "      <td>2016</td>\n",
       "      <td>4</td>\n",
       "      <td>29</td>\n",
       "      <td>Friday</td>\n",
       "      <td>2016</td>\n",
       "      <td>4</td>\n",
       "      <td>29</td>\n",
       "      <td>Friday</td>\n",
       "      <td>18</td>\n",
       "      <td>38</td>\n",
       "      <td>-1</td>\n",
       "      <td>0</td>\n",
       "    </tr>\n",
       "    <tr>\n",
       "      <th>558997776694438.000</th>\n",
       "      <td>2016-04-29 16:08:27+00:00</td>\n",
       "      <td>2016-04-29 00:00:00+00:00</td>\n",
       "      <td>56</td>\n",
       "      <td>JARDIM DA PENHA</td>\n",
       "      <td>0</td>\n",
       "      <td>True</td>\n",
       "      <td>False</td>\n",
       "      <td>False</td>\n",
       "      <td>False</td>\n",
       "      <td>False</td>\n",
       "      <td>False</td>\n",
       "      <td>False</td>\n",
       "      <td>2016</td>\n",
       "      <td>4</td>\n",
       "      <td>29</td>\n",
       "      <td>Friday</td>\n",
       "      <td>2016</td>\n",
       "      <td>4</td>\n",
       "      <td>29</td>\n",
       "      <td>Friday</td>\n",
       "      <td>16</td>\n",
       "      <td>8</td>\n",
       "      <td>-1</td>\n",
       "      <td>0</td>\n",
       "    </tr>\n",
       "    <tr>\n",
       "      <th>4262962299951.000</th>\n",
       "      <td>2016-04-29 16:19:04+00:00</td>\n",
       "      <td>2016-04-29 00:00:00+00:00</td>\n",
       "      <td>62</td>\n",
       "      <td>MATA DA PRAIA</td>\n",
       "      <td>0</td>\n",
       "      <td>False</td>\n",
       "      <td>False</td>\n",
       "      <td>False</td>\n",
       "      <td>False</td>\n",
       "      <td>False</td>\n",
       "      <td>False</td>\n",
       "      <td>False</td>\n",
       "      <td>2016</td>\n",
       "      <td>4</td>\n",
       "      <td>29</td>\n",
       "      <td>Friday</td>\n",
       "      <td>2016</td>\n",
       "      <td>4</td>\n",
       "      <td>29</td>\n",
       "      <td>Friday</td>\n",
       "      <td>16</td>\n",
       "      <td>19</td>\n",
       "      <td>-1</td>\n",
       "      <td>0</td>\n",
       "    </tr>\n",
       "    <tr>\n",
       "      <th>867951213174.000</th>\n",
       "      <td>2016-04-29 17:29:31+00:00</td>\n",
       "      <td>2016-04-29 00:00:00+00:00</td>\n",
       "      <td>8</td>\n",
       "      <td>PONTAL DE CAMBURI</td>\n",
       "      <td>0</td>\n",
       "      <td>False</td>\n",
       "      <td>False</td>\n",
       "      <td>False</td>\n",
       "      <td>False</td>\n",
       "      <td>False</td>\n",
       "      <td>False</td>\n",
       "      <td>False</td>\n",
       "      <td>2016</td>\n",
       "      <td>4</td>\n",
       "      <td>29</td>\n",
       "      <td>Friday</td>\n",
       "      <td>2016</td>\n",
       "      <td>4</td>\n",
       "      <td>29</td>\n",
       "      <td>Friday</td>\n",
       "      <td>17</td>\n",
       "      <td>29</td>\n",
       "      <td>-1</td>\n",
       "      <td>0</td>\n",
       "    </tr>\n",
       "    <tr>\n",
       "      <th>8841186448183.000</th>\n",
       "      <td>2016-04-29 16:07:23+00:00</td>\n",
       "      <td>2016-04-29 00:00:00+00:00</td>\n",
       "      <td>56</td>\n",
       "      <td>JARDIM DA PENHA</td>\n",
       "      <td>0</td>\n",
       "      <td>False</td>\n",
       "      <td>False</td>\n",
       "      <td>True</td>\n",
       "      <td>True</td>\n",
       "      <td>False</td>\n",
       "      <td>False</td>\n",
       "      <td>False</td>\n",
       "      <td>2016</td>\n",
       "      <td>4</td>\n",
       "      <td>29</td>\n",
       "      <td>Friday</td>\n",
       "      <td>2016</td>\n",
       "      <td>4</td>\n",
       "      <td>29</td>\n",
       "      <td>Friday</td>\n",
       "      <td>16</td>\n",
       "      <td>7</td>\n",
       "      <td>-1</td>\n",
       "      <td>0</td>\n",
       "    </tr>\n",
       "  </tbody>\n",
       "</table>\n",
       "</div>"
      ],
      "text/plain": [
       "                                 ScheduledDay            AppointmentDay  Age      Neighbourhood Handcap  Gender_M  Scholarship_1  Hipertension_1  Diabetes_1  Alcoholism_1  SMS_received_1  No-show_Yes  Appointment_Year  Appointment_Month  Appointment_Day Appointment_Day_Name  Schedule_Year  Schedule_Month  Schedule_Day Schedule_Day_Name  Schedule_Hour  Schedule_Minutes  Appointment_Diff  No-show\n",
       "PatientId                                                                                                                                                                                                                                                                                                                                                                                                    \n",
       "29872499824296.000  2016-04-29 18:38:08+00:00 2016-04-29 00:00:00+00:00   62    JARDIM DA PENHA       0     False          False            True       False         False           False        False              2016                  4               29               Friday           2016               4            29            Friday             18                38                -1        0\n",
       "558997776694438.000 2016-04-29 16:08:27+00:00 2016-04-29 00:00:00+00:00   56    JARDIM DA PENHA       0      True          False           False       False         False           False        False              2016                  4               29               Friday           2016               4            29            Friday             16                 8                -1        0\n",
       "4262962299951.000   2016-04-29 16:19:04+00:00 2016-04-29 00:00:00+00:00   62      MATA DA PRAIA       0     False          False           False       False         False           False        False              2016                  4               29               Friday           2016               4            29            Friday             16                19                -1        0\n",
       "867951213174.000    2016-04-29 17:29:31+00:00 2016-04-29 00:00:00+00:00    8  PONTAL DE CAMBURI       0     False          False           False       False         False           False        False              2016                  4               29               Friday           2016               4            29            Friday             17                29                -1        0\n",
       "8841186448183.000   2016-04-29 16:07:23+00:00 2016-04-29 00:00:00+00:00   56    JARDIM DA PENHA       0     False          False            True        True         False           False        False              2016                  4               29               Friday           2016               4            29            Friday             16                 7                -1        0"
      ]
     },
     "execution_count": 31,
     "metadata": {},
     "output_type": "execute_result"
    }
   ],
   "source": [
    "# Hedef değişkeni de modeller için 0 - 1 'e çevir. 0 gelmemiş, 1 gelmiş\n",
    "df_ohe['No-show']= df_ohe['No-show_Yes'].apply(lambda x: 1 if x == True else 0)\n",
    "df_ohe.head()\n"
   ]
  },
  {
   "cell_type": "code",
   "execution_count": 32,
   "id": "3b671362",
   "metadata": {},
   "outputs": [
    {
     "data": {
      "image/png": "[encoded data removed]",
      "text/plain": [
       "<Figure size 640x480 with 1 Axes>"
      ]
     },
     "metadata": {},
     "output_type": "display_data"
    }
   ],
   "source": [
    "# Görselleştirelim\n",
    "sns.boxplot(x=\"No-show\", y=\"Appointment_Diff\", data=df_ohe)\n",
    "plt.title(\"No-show'a Göre Randevu Farkı (Gün)\")\n",
    "plt.xlabel(\"No-show (0: Geldi, 1: Gelmedi)\")\n",
    "plt.ylabel(\"Randevu Farkı (Gün)\")\n",
    "plt.show()"
   ]
  },
  {
   "cell_type": "code",
   "execution_count": 33,
   "id": "1656dc8a",
   "metadata": {},
   "outputs": [
    {
     "data": {
      "image/png": "[encoded data removed]",
      "text/plain": [
       "<Figure size 640x480 with 1 Axes>"
      ]
     },
     "metadata": {},
     "output_type": "display_data"
    }
   ],
   "source": [
    "sns.histplot(df_ohe['Appointment_Diff'], bins=30, kde=True)\n",
    "plt.title(\"Randevu Alınan Gün ile Randevu Günü Arasındaki Fark (Gün)\")\n",
    "plt.xlabel(\"Gün Farkı\")\n",
    "plt.ylabel(\"Kişi Sayısı\")\n",
    "plt.show()"
   ]
  },
  {
   "cell_type": "code",
   "execution_count": 34,
   "id": "3f91c38c",
   "metadata": {},
   "outputs": [
    {
     "name": "stdout",
     "output_type": "stream",
     "text": [
      "Randevuyu Önceden Alanların Oranı: 34.89%\n"
     ]
    }
   ],
   "source": [
    "# Ranevuyu önceden alanların oranı\n",
    "neg_ratio = (df_ohe['Appointment_Diff'] < 0).sum() / len(df_ohe)\n",
    "print(f\"Randevuyu Önceden Alanların Oranı: {neg_ratio:.2%}\")"
   ]
  },
  {
   "cell_type": "code",
   "execution_count": 35,
   "id": "703e8f1b",
   "metadata": {},
   "outputs": [
    {
     "data": {
      "text/plain": [
       "Index(['ScheduledDay', 'AppointmentDay', 'Age', 'Neighbourhood', 'Handcap', 'Gender_M', 'Scholarship_1', 'Hipertension_1', 'Diabetes_1', 'Alcoholism_1', 'SMS_received_1', 'No-show_Yes', 'Appointment_Year', 'Appointment_Month', 'Appointment_Day', 'Appointment_Day_Name', 'Schedule_Year', 'Schedule_Month', 'Schedule_Day', 'Schedule_Day_Name', 'Schedule_Hour', 'Schedule_Minutes', 'Appointment_Diff', 'No-show'], dtype='object')"
      ]
     },
     "execution_count": 35,
     "metadata": {},
     "output_type": "execute_result"
    }
   ],
   "source": [
    "df_ohe.columns"
   ]
  },
  {
   "cell_type": "code",
   "execution_count": 36,
   "id": "71d11759",
   "metadata": {},
   "outputs": [
    {
     "name": "stdout",
     "output_type": "stream",
     "text": [
      "Erkeklerin yaş ortalaması: 33.74\n",
      "Kadınların yaş ortalaması: 38.89\n"
     ]
    },
    {
     "data": {
      "application/vnd.microsoft.datawrangler.viewer.v0+json": {
       "columns": [
        {
         "name": "index",
         "rawType": "object",
         "type": "string"
        },
        {
         "name": "No-show",
         "rawType": "float64",
         "type": "float"
        }
       ],
       "ref": "5bf5537e-0d54-4f82-95df-f9291fbf9cad",
       "rows": [
        [
         "count",
         "35957.0"
        ],
        [
         "mean",
         "0.17782351141641406"
        ]
       ],
       "shape": {
        "columns": 1,
        "rows": 2
       }
      },
      "text/plain": [
       "count   35957.000\n",
       "mean        0.178\n",
       "Name: No-show, dtype: float64"
      ]
     },
     "execution_count": 36,
     "metadata": {},
     "output_type": "execute_result"
    }
   ],
   "source": [
    "#df_ohe.drop('No-show_Yes', inplace = True, axis= 1)\n",
    "#df_ohe.head()\n",
    "male_age_mean = df_ohe[df_ohe['Gender_M'] == 1]['Age'].mean()\n",
    "print(f\"Erkeklerin yaş ortalaması: {male_age_mean:.2f}\")\n",
    "\n",
    "female_age_mean = df_ohe[df_ohe['Gender_M'] == 0]['Age'].mean()\n",
    "print(f\"Kadınların yaş ortalaması: {female_age_mean:.2f}\")\n",
    "\n",
    "\n",
    "# Age x Gender Mixed\n",
    "df_ohe[(df_ohe['Age'] < male_age_mean) & (df_ohe['Gender_M'] == 1)]['No-show'].agg([\"count\", \"mean\"])\n",
    "\n",
    "df_ohe[(df_ohe['Age'] > male_age_mean) & (df_ohe['Gender_M'] == 1)]['No-show'].agg([\"count\", \"mean\"])\n",
    "\n",
    "df_ohe[(df_ohe['Age'] < female_age_mean) & (df_ohe['Gender_M'] == 0)]['No-show'].agg([\"count\", \"mean\"])\n",
    "\n",
    "df_ohe[(df_ohe['Age'] > female_age_mean) & (df_ohe['Gender_M'] == 0)]['No-show'].agg([\"count\", \"mean\"])\n",
    "\n",
    "\n",
    "\n",
    "\n"
   ]
  },
  {
   "cell_type": "code",
   "execution_count": 37,
   "id": "81df1f3e",
   "metadata": {},
   "outputs": [
    {
     "data": {
      "application/vnd.microsoft.datawrangler.viewer.v0+json": {
       "columns": [
        {
         "name": "Gender_M",
         "rawType": "bool",
         "type": "boolean"
        },
        {
         "name": "count",
         "rawType": "int64",
         "type": "integer"
        },
        {
         "name": "mean",
         "rawType": "float64",
         "type": "float"
        }
       ],
       "ref": "21295c7f-6f24-41d8-a18c-872d036f6b08",
       "rows": [
        [
         "False",
         "71840",
         "0.20314587973273943"
        ],
        [
         "True",
         "38687",
         "0.19967947889471915"
        ]
       ],
       "shape": {
        "columns": 2,
        "rows": 2
       }
      },
      "text/html": [
       "<div>\n",
       "<style scoped>\n",
       "    .dataframe tbody tr th:only-of-type {\n",
       "        vertical-align: middle;\n",
       "    }\n",
       "\n",
       "    .dataframe tbody tr th {\n",
       "        vertical-align: top;\n",
       "    }\n",
       "\n",
       "    .dataframe thead th {\n",
       "        text-align: right;\n",
       "    }\n",
       "</style>\n",
       "<table border=\"1\" class=\"dataframe\">\n",
       "  <thead>\n",
       "    <tr style=\"text-align: right;\">\n",
       "      <th></th>\n",
       "      <th>count</th>\n",
       "      <th>mean</th>\n",
       "    </tr>\n",
       "    <tr>\n",
       "      <th>Gender_M</th>\n",
       "      <th></th>\n",
       "      <th></th>\n",
       "    </tr>\n",
       "  </thead>\n",
       "  <tbody>\n",
       "    <tr>\n",
       "      <th>False</th>\n",
       "      <td>71840</td>\n",
       "      <td>0.203</td>\n",
       "    </tr>\n",
       "    <tr>\n",
       "      <th>True</th>\n",
       "      <td>38687</td>\n",
       "      <td>0.200</td>\n",
       "    </tr>\n",
       "  </tbody>\n",
       "</table>\n",
       "</div>"
      ],
      "text/plain": [
       "          count  mean\n",
       "Gender_M             \n",
       "False     71840 0.203\n",
       "True      38687 0.200"
      ]
     },
     "execution_count": 37,
     "metadata": {},
     "output_type": "execute_result"
    }
   ],
   "source": [
    "df_ohe.groupby(\"Gender_M\")['No-show'].agg([\"count\",\"mean\"])"
   ]
  },
  {
   "cell_type": "code",
   "execution_count": 38,
   "id": "2065139a",
   "metadata": {},
   "outputs": [
    {
     "name": "stdout",
     "output_type": "stream",
     "text": [
      "'Gender_M' değişkenine göre 'No-show' ilişkisi\n",
      "          count  mean\n",
      "Gender_M             \n",
      "False     71840 0.203\n",
      "True      38687 0.200\n",
      "***************************************************************************\n",
      "'Scholarship_1' değişkenine göre 'No-show' ilişkisi\n",
      "               count  mean\n",
      "Scholarship_1             \n",
      "False          99666 0.198\n",
      "True           10861 0.237\n",
      "***************************************************************************\n",
      "'Hipertension_1' değişkenine göre 'No-show' ilişkisi\n",
      "                count  mean\n",
      "Hipertension_1             \n",
      "False           88726 0.209\n",
      "True            21801 0.173\n",
      "***************************************************************************\n",
      "'Diabetes_1' değişkenine göre 'No-show' ilişkisi\n",
      "             count  mean\n",
      "Diabetes_1              \n",
      "False       102584 0.204\n",
      "True          7943 0.180\n",
      "***************************************************************************\n",
      "'Alcoholism_1' değişkenine göre 'No-show' ilişkisi\n",
      "               count  mean\n",
      "Alcoholism_1              \n",
      "False         107167 0.202\n",
      "True            3360 0.201\n",
      "***************************************************************************\n",
      "'SMS_received_1' değişkenine göre 'No-show' ilişkisi\n",
      "                count  mean\n",
      "SMS_received_1             \n",
      "False           75045 0.167\n",
      "True            35482 0.276\n",
      "***************************************************************************\n"
     ]
    }
   ],
   "source": [
    "# print(df_ohe[\"Alcoholism_1\"].dtype) bool\n",
    "df_ohe.groupby(\"Alcoholism_1\")['No-show'].agg([\"count\",\"mean\"])\n",
    " \n",
    "#Fonksiyonlaştıralım\n",
    "def no_show_rel(dataframe, col_names, target = \"No-show\"):\n",
    "    for col in col_names:\n",
    "        result = dataframe.groupby(col)[target].agg([\"count\", \"mean\"])\n",
    "        print(f\"'{col}' değişkenine göre '{target}' ilişkisi\")\n",
    "        print(result)\n",
    "        print(\"*\"*75)\n",
    "\n",
    "df_ohe.columns       \n",
    "interested_cols = ['Gender_M', 'Scholarship_1','Hipertension_1','Diabetes_1','Alcoholism_1', 'SMS_received_1']\n",
    "no_show_rel(dataframe = df_ohe, col_names= interested_cols)"
   ]
  },
  {
   "cell_type": "code",
   "execution_count": 39,
   "id": "c36f0b32",
   "metadata": {},
   "outputs": [
    {
     "name": "stdout",
     "output_type": "stream",
     "text": [
      "No-show\n",
      "0    88208\n",
      "1    22319\n",
      "Name: count, dtype: int64\n",
      "[0 1]\n",
      "int64\n"
     ]
    }
   ],
   "source": [
    "print(df_ohe['No-show'].value_counts(dropna=False))\n",
    "print(df_ohe['No-show'].unique())\n",
    "print(df_ohe['No-show'].dtype)"
   ]
  },
  {
   "cell_type": "code",
   "execution_count": 40,
   "id": "57b38fb9",
   "metadata": {},
   "outputs": [
    {
     "data": {
      "text/plain": [
       "2016"
      ]
     },
     "execution_count": 40,
     "metadata": {},
     "output_type": "execute_result"
    }
   ],
   "source": [
    "# Appointment_Year\n",
    "df_ohe.groupby('Appointment_Year')['No-show'].agg([\"count\",\"mean\"])\n",
    "df_ohe['Appointment_Year'].min() # 2016\n",
    "df_ohe['Appointment_Year'].max() # 2016\n",
    "\n"
   ]
  },
  {
   "cell_type": "code",
   "execution_count": 41,
   "id": "f23e0417",
   "metadata": {},
   "outputs": [
    {
     "data": {
      "application/vnd.microsoft.datawrangler.viewer.v0+json": {
       "columns": [
        {
         "name": "Appointment_Month",
         "rawType": "int32",
         "type": "integer"
        },
        {
         "name": "count",
         "rawType": "int64",
         "type": "integer"
        },
        {
         "name": "mean",
         "rawType": "float64",
         "type": "float"
        }
       ],
       "ref": "be55e3d0-debd-42d8-89b9-439f0cc407a2",
       "rows": [
        [
         "4",
         "3235",
         "0.1956723338485317"
        ],
        [
         "5",
         "80841",
         "0.20786482106851722"
        ],
        [
         "6",
         "26451",
         "0.18456769120260103"
        ]
       ],
       "shape": {
        "columns": 2,
        "rows": 3
       }
      },
      "text/html": [
       "<div>\n",
       "<style scoped>\n",
       "    .dataframe tbody tr th:only-of-type {\n",
       "        vertical-align: middle;\n",
       "    }\n",
       "\n",
       "    .dataframe tbody tr th {\n",
       "        vertical-align: top;\n",
       "    }\n",
       "\n",
       "    .dataframe thead th {\n",
       "        text-align: right;\n",
       "    }\n",
       "</style>\n",
       "<table border=\"1\" class=\"dataframe\">\n",
       "  <thead>\n",
       "    <tr style=\"text-align: right;\">\n",
       "      <th></th>\n",
       "      <th>count</th>\n",
       "      <th>mean</th>\n",
       "    </tr>\n",
       "    <tr>\n",
       "      <th>Appointment_Month</th>\n",
       "      <th></th>\n",
       "      <th></th>\n",
       "    </tr>\n",
       "  </thead>\n",
       "  <tbody>\n",
       "    <tr>\n",
       "      <th>4</th>\n",
       "      <td>3235</td>\n",
       "      <td>0.196</td>\n",
       "    </tr>\n",
       "    <tr>\n",
       "      <th>5</th>\n",
       "      <td>80841</td>\n",
       "      <td>0.208</td>\n",
       "    </tr>\n",
       "    <tr>\n",
       "      <th>6</th>\n",
       "      <td>26451</td>\n",
       "      <td>0.185</td>\n",
       "    </tr>\n",
       "  </tbody>\n",
       "</table>\n",
       "</div>"
      ],
      "text/plain": [
       "                   count  mean\n",
       "Appointment_Month             \n",
       "4                   3235 0.196\n",
       "5                  80841 0.208\n",
       "6                  26451 0.185"
      ]
     },
     "execution_count": 41,
     "metadata": {},
     "output_type": "execute_result"
    }
   ],
   "source": [
    "df_ohe.groupby('Appointment_Month')['No-show'].agg(['count','mean'])"
   ]
  },
  {
   "cell_type": "code",
   "execution_count": 42,
   "id": "7e72b0ee",
   "metadata": {},
   "outputs": [
    {
     "data": {
      "image/png": "[encoded data removed]",
      "text/plain": [
       "<Figure size 1200x800 with 1 Axes>"
      ]
     },
     "metadata": {},
     "output_type": "display_data"
    }
   ],
   "source": [
    "# Tarihlerin Sıralaması\n",
    "sorted_date = df_ohe.sort_values(by='Appointment_Day', ascending=True).groupby('Appointment_Day')['No-show'].agg(['count', 'mean'])\n",
    "\n",
    "sorted_date.plot(y = 'mean', kind='bar', title = \"Gün Bazında Randevuya Gelip Gelmeme Oranı\", figsize = (12,8))\n",
    "plt.ylabel(\"Randevuya Gelmeme Oranı\")\n",
    "plt.xlabel(\"Randevu Günü\")\n",
    "plt.tight_layout()\n",
    "plt.show()"
   ]
  },
  {
   "cell_type": "code",
   "execution_count": 43,
   "id": "611952be",
   "metadata": {},
   "outputs": [
    {
     "name": "stdout",
     "output_type": "stream",
     "text": [
      "Appointment_Day\n",
      "2     8686\n",
      "6     8571\n",
      "3     8346\n",
      "16    4613\n",
      "9     4520\n",
      "30    4514\n",
      "8     4479\n",
      "11    4474\n",
      "1     4464\n",
      "7     4416\n",
      "12    4394\n",
      "18    4373\n",
      "17    4372\n",
      "10    4308\n",
      "31    4279\n",
      "5     4273\n",
      "19    4270\n",
      "4     4168\n",
      "24    4009\n",
      "13    3987\n",
      "25    3909\n",
      "20    3828\n",
      "29    3235\n",
      "14      39\n",
      "Name: count, dtype: int64\n"
     ]
    }
   ],
   "source": [
    "# En çok randevu alınan tarihler\n",
    "most_appointments_day = df_ohe[\"Appointment_Day\"].value_counts().sort_values(ascending=False)\n",
    "print(most_appointments_day)"
   ]
  },
  {
   "cell_type": "code",
   "execution_count": 44,
   "id": "8fdcaa81",
   "metadata": {},
   "outputs": [
    {
     "data": {
      "image/png": "[encoded data removed]",
      "text/plain": [
       "<Figure size 1200x800 with 1 Axes>"
      ]
     },
     "metadata": {},
     "output_type": "display_data"
    }
   ],
   "source": [
    "sorted_date.plot(y = 'count', kind='bar', title = \"Gün Bazında Randevu Sayısı\", figsize = (12,8))\n",
    "plt.ylabel(\"Kişi Sayısı\")\n",
    "plt.xlabel(\"Randevu Günü\")\n",
    "plt.tight_layout()\n",
    "plt.show()"
   ]
  },
  {
   "cell_type": "code",
   "execution_count": 45,
   "id": "612b9cd3",
   "metadata": {},
   "outputs": [
    {
     "data": {
      "application/vnd.microsoft.datawrangler.viewer.v0+json": {
       "columns": [
        {
         "name": "PatientId",
         "rawType": "float64",
         "type": "float"
        },
        {
         "name": "ScheduledDay",
         "rawType": "datetime64[ns, UTC]",
         "type": "unknown"
        },
        {
         "name": "AppointmentDay",
         "rawType": "datetime64[ns, UTC]",
         "type": "unknown"
        },
        {
         "name": "Age",
         "rawType": "int64",
         "type": "integer"
        },
        {
         "name": "Neighbourhood",
         "rawType": "object",
         "type": "string"
        },
        {
         "name": "Handcap",
         "rawType": "object",
         "type": "unknown"
        },
        {
         "name": "Gender_M",
         "rawType": "bool",
         "type": "boolean"
        },
        {
         "name": "Scholarship_1",
         "rawType": "bool",
         "type": "boolean"
        },
        {
         "name": "Hipertension_1",
         "rawType": "bool",
         "type": "boolean"
        },
        {
         "name": "Diabetes_1",
         "rawType": "bool",
         "type": "boolean"
        },
        {
         "name": "Alcoholism_1",
         "rawType": "bool",
         "type": "boolean"
        },
        {
         "name": "SMS_received_1",
         "rawType": "bool",
         "type": "boolean"
        },
        {
         "name": "No-show_Yes",
         "rawType": "bool",
         "type": "boolean"
        },
        {
         "name": "Appointment_Year",
         "rawType": "int32",
         "type": "integer"
        },
        {
         "name": "Appointment_Month",
         "rawType": "int32",
         "type": "integer"
        },
        {
         "name": "Appointment_Day",
         "rawType": "int32",
         "type": "integer"
        },
        {
         "name": "Appointment_Day_Name",
         "rawType": "object",
         "type": "string"
        },
        {
         "name": "Schedule_Year",
         "rawType": "int32",
         "type": "integer"
        },
        {
         "name": "Schedule_Month",
         "rawType": "int32",
         "type": "integer"
        },
        {
         "name": "Schedule_Day",
         "rawType": "int32",
         "type": "integer"
        },
        {
         "name": "Schedule_Day_Name",
         "rawType": "object",
         "type": "string"
        },
        {
         "name": "Schedule_Hour",
         "rawType": "int32",
         "type": "integer"
        },
        {
         "name": "Schedule_Minutes",
         "rawType": "int32",
         "type": "integer"
        },
        {
         "name": "Appointment_Diff",
         "rawType": "int64",
         "type": "integer"
        },
        {
         "name": "No-show",
         "rawType": "int64",
         "type": "integer"
        }
       ],
       "ref": "16833fb3-5cb8-42a6-84bd-bd68865f3036",
       "rows": [
        [
         "29872499824296.0",
         "2016-04-29 18:38:08+00:00",
         "2016-04-29 00:00:00+00:00",
         "62",
         "JARDIM DA PENHA",
         "0",
         "False",
         "False",
         "True",
         "False",
         "False",
         "False",
         "False",
         "2016",
         "4",
         "29",
         "Friday",
         "2016",
         "4",
         "29",
         "Friday",
         "18",
         "38",
         "-1",
         "0"
        ],
        [
         "558997776694438.0",
         "2016-04-29 16:08:27+00:00",
         "2016-04-29 00:00:00+00:00",
         "56",
         "JARDIM DA PENHA",
         "0",
         "True",
         "False",
         "False",
         "False",
         "False",
         "False",
         "False",
         "2016",
         "4",
         "29",
         "Friday",
         "2016",
         "4",
         "29",
         "Friday",
         "16",
         "8",
         "-1",
         "0"
        ],
        [
         "4262962299951.0",
         "2016-04-29 16:19:04+00:00",
         "2016-04-29 00:00:00+00:00",
         "62",
         "Rare",
         "0",
         "False",
         "False",
         "False",
         "False",
         "False",
         "False",
         "False",
         "2016",
         "4",
         "29",
         "Friday",
         "2016",
         "4",
         "29",
         "Friday",
         "16",
         "19",
         "-1",
         "0"
        ],
        [
         "867951213174.0",
         "2016-04-29 17:29:31+00:00",
         "2016-04-29 00:00:00+00:00",
         "8",
         "Rare",
         "0",
         "False",
         "False",
         "False",
         "False",
         "False",
         "False",
         "False",
         "2016",
         "4",
         "29",
         "Friday",
         "2016",
         "4",
         "29",
         "Friday",
         "17",
         "29",
         "-1",
         "0"
        ],
        [
         "8841186448183.0",
         "2016-04-29 16:07:23+00:00",
         "2016-04-29 00:00:00+00:00",
         "56",
         "JARDIM DA PENHA",
         "0",
         "False",
         "False",
         "True",
         "True",
         "False",
         "False",
         "False",
         "2016",
         "4",
         "29",
         "Friday",
         "2016",
         "4",
         "29",
         "Friday",
         "16",
         "7",
         "-1",
         "0"
        ]
       ],
       "shape": {
        "columns": 24,
        "rows": 5
       }
      },
      "text/html": [
       "<div>\n",
       "<style scoped>\n",
       "    .dataframe tbody tr th:only-of-type {\n",
       "        vertical-align: middle;\n",
       "    }\n",
       "\n",
       "    .dataframe tbody tr th {\n",
       "        vertical-align: top;\n",
       "    }\n",
       "\n",
       "    .dataframe thead th {\n",
       "        text-align: right;\n",
       "    }\n",
       "</style>\n",
       "<table border=\"1\" class=\"dataframe\">\n",
       "  <thead>\n",
       "    <tr style=\"text-align: right;\">\n",
       "      <th></th>\n",
       "      <th>ScheduledDay</th>\n",
       "      <th>AppointmentDay</th>\n",
       "      <th>Age</th>\n",
       "      <th>Neighbourhood</th>\n",
       "      <th>Handcap</th>\n",
       "      <th>Gender_M</th>\n",
       "      <th>Scholarship_1</th>\n",
       "      <th>Hipertension_1</th>\n",
       "      <th>Diabetes_1</th>\n",
       "      <th>Alcoholism_1</th>\n",
       "      <th>SMS_received_1</th>\n",
       "      <th>No-show_Yes</th>\n",
       "      <th>Appointment_Year</th>\n",
       "      <th>Appointment_Month</th>\n",
       "      <th>Appointment_Day</th>\n",
       "      <th>Appointment_Day_Name</th>\n",
       "      <th>Schedule_Year</th>\n",
       "      <th>Schedule_Month</th>\n",
       "      <th>Schedule_Day</th>\n",
       "      <th>Schedule_Day_Name</th>\n",
       "      <th>Schedule_Hour</th>\n",
       "      <th>Schedule_Minutes</th>\n",
       "      <th>Appointment_Diff</th>\n",
       "      <th>No-show</th>\n",
       "    </tr>\n",
       "    <tr>\n",
       "      <th>PatientId</th>\n",
       "      <th></th>\n",
       "      <th></th>\n",
       "      <th></th>\n",
       "      <th></th>\n",
       "      <th></th>\n",
       "      <th></th>\n",
       "      <th></th>\n",
       "      <th></th>\n",
       "      <th></th>\n",
       "      <th></th>\n",
       "      <th></th>\n",
       "      <th></th>\n",
       "      <th></th>\n",
       "      <th></th>\n",
       "      <th></th>\n",
       "      <th></th>\n",
       "      <th></th>\n",
       "      <th></th>\n",
       "      <th></th>\n",
       "      <th></th>\n",
       "      <th></th>\n",
       "      <th></th>\n",
       "      <th></th>\n",
       "      <th></th>\n",
       "    </tr>\n",
       "  </thead>\n",
       "  <tbody>\n",
       "    <tr>\n",
       "      <th>29872499824296.000</th>\n",
       "      <td>2016-04-29 18:38:08+00:00</td>\n",
       "      <td>2016-04-29 00:00:00+00:00</td>\n",
       "      <td>62</td>\n",
       "      <td>JARDIM DA PENHA</td>\n",
       "      <td>0</td>\n",
       "      <td>False</td>\n",
       "      <td>False</td>\n",
       "      <td>True</td>\n",
       "      <td>False</td>\n",
       "      <td>False</td>\n",
       "      <td>False</td>\n",
       "      <td>False</td>\n",
       "      <td>2016</td>\n",
       "      <td>4</td>\n",
       "      <td>29</td>\n",
       "      <td>Friday</td>\n",
       "      <td>2016</td>\n",
       "      <td>4</td>\n",
       "      <td>29</td>\n",
       "      <td>Friday</td>\n",
       "      <td>18</td>\n",
       "      <td>38</td>\n",
       "      <td>-1</td>\n",
       "      <td>0</td>\n",
       "    </tr>\n",
       "    <tr>\n",
       "      <th>558997776694438.000</th>\n",
       "      <td>2016-04-29 16:08:27+00:00</td>\n",
       "      <td>2016-04-29 00:00:00+00:00</td>\n",
       "      <td>56</td>\n",
       "      <td>JARDIM DA PENHA</td>\n",
       "      <td>0</td>\n",
       "      <td>True</td>\n",
       "      <td>False</td>\n",
       "      <td>False</td>\n",
       "      <td>False</td>\n",
       "      <td>False</td>\n",
       "      <td>False</td>\n",
       "      <td>False</td>\n",
       "      <td>2016</td>\n",
       "      <td>4</td>\n",
       "      <td>29</td>\n",
       "      <td>Friday</td>\n",
       "      <td>2016</td>\n",
       "      <td>4</td>\n",
       "      <td>29</td>\n",
       "      <td>Friday</td>\n",
       "      <td>16</td>\n",
       "      <td>8</td>\n",
       "      <td>-1</td>\n",
       "      <td>0</td>\n",
       "    </tr>\n",
       "    <tr>\n",
       "      <th>4262962299951.000</th>\n",
       "      <td>2016-04-29 16:19:04+00:00</td>\n",
       "      <td>2016-04-29 00:00:00+00:00</td>\n",
       "      <td>62</td>\n",
       "      <td>Rare</td>\n",
       "      <td>0</td>\n",
       "      <td>False</td>\n",
       "      <td>False</td>\n",
       "      <td>False</td>\n",
       "      <td>False</td>\n",
       "      <td>False</td>\n",
       "      <td>False</td>\n",
       "      <td>False</td>\n",
       "      <td>2016</td>\n",
       "      <td>4</td>\n",
       "      <td>29</td>\n",
       "      <td>Friday</td>\n",
       "      <td>2016</td>\n",
       "      <td>4</td>\n",
       "      <td>29</td>\n",
       "      <td>Friday</td>\n",
       "      <td>16</td>\n",
       "      <td>19</td>\n",
       "      <td>-1</td>\n",
       "      <td>0</td>\n",
       "    </tr>\n",
       "    <tr>\n",
       "      <th>867951213174.000</th>\n",
       "      <td>2016-04-29 17:29:31+00:00</td>\n",
       "      <td>2016-04-29 00:00:00+00:00</td>\n",
       "      <td>8</td>\n",
       "      <td>Rare</td>\n",
       "      <td>0</td>\n",
       "      <td>False</td>\n",
       "      <td>False</td>\n",
       "      <td>False</td>\n",
       "      <td>False</td>\n",
       "      <td>False</td>\n",
       "      <td>False</td>\n",
       "      <td>False</td>\n",
       "      <td>2016</td>\n",
       "      <td>4</td>\n",
       "      <td>29</td>\n",
       "      <td>Friday</td>\n",
       "      <td>2016</td>\n",
       "      <td>4</td>\n",
       "      <td>29</td>\n",
       "      <td>Friday</td>\n",
       "      <td>17</td>\n",
       "      <td>29</td>\n",
       "      <td>-1</td>\n",
       "      <td>0</td>\n",
       "    </tr>\n",
       "    <tr>\n",
       "      <th>8841186448183.000</th>\n",
       "      <td>2016-04-29 16:07:23+00:00</td>\n",
       "      <td>2016-04-29 00:00:00+00:00</td>\n",
       "      <td>56</td>\n",
       "      <td>JARDIM DA PENHA</td>\n",
       "      <td>0</td>\n",
       "      <td>False</td>\n",
       "      <td>False</td>\n",
       "      <td>True</td>\n",
       "      <td>True</td>\n",
       "      <td>False</td>\n",
       "      <td>False</td>\n",
       "      <td>False</td>\n",
       "      <td>2016</td>\n",
       "      <td>4</td>\n",
       "      <td>29</td>\n",
       "      <td>Friday</td>\n",
       "      <td>2016</td>\n",
       "      <td>4</td>\n",
       "      <td>29</td>\n",
       "      <td>Friday</td>\n",
       "      <td>16</td>\n",
       "      <td>7</td>\n",
       "      <td>-1</td>\n",
       "      <td>0</td>\n",
       "    </tr>\n",
       "  </tbody>\n",
       "</table>\n",
       "</div>"
      ],
      "text/plain": [
       "                                 ScheduledDay            AppointmentDay  Age    Neighbourhood Handcap  Gender_M  Scholarship_1  Hipertension_1  Diabetes_1  Alcoholism_1  SMS_received_1  No-show_Yes  Appointment_Year  Appointment_Month  Appointment_Day Appointment_Day_Name  Schedule_Year  Schedule_Month  Schedule_Day Schedule_Day_Name  Schedule_Hour  Schedule_Minutes  Appointment_Diff  No-show\n",
       "PatientId                                                                                                                                                                                                                                                                                                                                                                                                  \n",
       "29872499824296.000  2016-04-29 18:38:08+00:00 2016-04-29 00:00:00+00:00   62  JARDIM DA PENHA       0     False          False            True       False         False           False        False              2016                  4               29               Friday           2016               4            29            Friday             18                38                -1        0\n",
       "558997776694438.000 2016-04-29 16:08:27+00:00 2016-04-29 00:00:00+00:00   56  JARDIM DA PENHA       0      True          False           False       False         False           False        False              2016                  4               29               Friday           2016               4            29            Friday             16                 8                -1        0\n",
       "4262962299951.000   2016-04-29 16:19:04+00:00 2016-04-29 00:00:00+00:00   62             Rare       0     False          False           False       False         False           False        False              2016                  4               29               Friday           2016               4            29            Friday             16                19                -1        0\n",
       "867951213174.000    2016-04-29 17:29:31+00:00 2016-04-29 00:00:00+00:00    8             Rare       0     False          False           False       False         False           False        False              2016                  4               29               Friday           2016               4            29            Friday             17                29                -1        0\n",
       "8841186448183.000   2016-04-29 16:07:23+00:00 2016-04-29 00:00:00+00:00   56  JARDIM DA PENHA       0     False          False            True        True         False           False        False              2016                  4               29               Friday           2016               4            29            Friday             16                 7                -1        0"
      ]
     },
     "execution_count": 45,
     "metadata": {},
     "output_type": "execute_result"
    }
   ],
   "source": [
    "\n",
    "df_ohe = rare_encoder(df_ohe, \"Neighbourhood\", rare_perc= 0.01)\n",
    "# df_ohe = one_hot_encoder(df_ohe, ['Appointment_Day_Name', 'Schedule_Day_Name'])\n",
    "df_ohe.head()"
   ]
  },
  {
   "cell_type": "code",
   "execution_count": 46,
   "id": "6487e87f",
   "metadata": {},
   "outputs": [
    {
     "data": {
      "application/vnd.microsoft.datawrangler.viewer.v0+json": {
       "columns": [
        {
         "name": "('Neighbourhood', 'No-show')",
         "rawType": "object",
         "type": "unknown"
        },
        {
         "name": "count",
         "rawType": "int64",
         "type": "integer"
        }
       ],
       "ref": "f570017a-ec0f-4408-a22a-abf196011891",
       "rows": [
        [
         "('Rare', 0)",
         "17202"
        ],
        [
         "('JARDIM CAMBURI', 0)",
         "6252"
        ],
        [
         "('MARIA ORTIZ', 0)",
         "4586"
        ],
        [
         "('Rare', 1)",
         "4192"
        ],
        [
         "('RESISTÊNCIA', 0)",
         "3525"
        ],
        [
         "('JARDIM DA PENHA', 0)",
         "3246"
        ],
        [
         "('SANTA MARTHA', 0)",
         "2635"
        ],
        [
         "('CENTRO', 0)",
         "2631"
        ],
        [
         "('ITARARÉ', 0)",
         "2591"
        ],
        [
         "('TABUAZEIRO', 0)",
         "2559"
        ],
        [
         "('SANTO ANTÔNIO', 0)",
         "2262"
        ],
        [
         "('BONFIM', 0)",
         "2223"
        ],
        [
         "('JESUS DE NAZARETH', 0)",
         "2157"
        ],
        [
         "('SANTO ANDRÉ', 0)",
         "2063"
        ],
        [
         "('JABOUR', 0)",
         "2058"
        ],
        [
         "('CARATOÍRA', 0)",
         "1974"
        ],
        [
         "('SÃO PEDRO', 0)",
         "1933"
        ],
        [
         "('NOVA PALESTINA', 0)",
         "1862"
        ],
        [
         "('DA PENHA', 0)",
         "1788"
        ],
        [
         "('ROMÃO', 0)",
         "1741"
        ],
        [
         "('ANDORINHAS', 0)",
         "1741"
        ],
        [
         "('ILHA DO PRÍNCIPE', 0)",
         "1734"
        ],
        [
         "('GURIGICA', 0)",
         "1562"
        ],
        [
         "('SÃO JOSÉ', 0)",
         "1549"
        ],
        [
         "('FORTE SÃO JOÃO', 0)",
         "1543"
        ],
        [
         "('ILHA DE SANTA MARIA', 0)",
         "1524"
        ],
        [
         "('BELA VISTA', 0)",
         "1523"
        ],
        [
         "('MARUÍPE', 0)",
         "1478"
        ],
        [
         "('SÃO CRISTÓVÃO', 0)",
         "1473"
        ],
        [
         "('JARDIM CAMBURI', 1)",
         "1465"
        ],
        [
         "('REDENÇÃO', 0)",
         "1278"
        ],
        [
         "('MARIA ORTIZ', 1)",
         "1219"
        ],
        [
         "('JOANA D´ARC', 0)",
         "1169"
        ],
        [
         "('SÃO BENEDITO', 0)",
         "1152"
        ],
        [
         "('CONSOLAÇÃO', 0)",
         "1139"
        ],
        [
         "('CRUZAMENTO', 0)",
         "1094"
        ],
        [
         "('SANTA TEREZA', 0)",
         "1060"
        ],
        [
         "('PRAIA DO SUÁ', 0)",
         "994"
        ],
        [
         "('ITARARÉ', 1)",
         "923"
        ],
        [
         "('SANTOS DUMONT', 0)",
         "907"
        ],
        [
         "('RESISTÊNCIA', 1)",
         "906"
        ],
        [
         "('CENTRO', 1)",
         "703"
        ],
        [
         "('JESUS DE NAZARETH', 1)",
         "696"
        ],
        [
         "('JARDIM DA PENHA', 1)",
         "631"
        ],
        [
         "('CARATOÍRA', 1)",
         "591"
        ],
        [
         "('TABUAZEIRO', 1)",
         "573"
        ],
        [
         "('BONFIM', 1)",
         "550"
        ],
        [
         "('ILHA DO PRÍNCIPE', 1)",
         "532"
        ],
        [
         "('ANDORINHAS', 1)",
         "521"
        ],
        [
         "('SÃO PEDRO', 1)",
         "515"
        ]
       ],
       "shape": {
        "columns": 1,
        "rows": 72
       }
      },
      "text/plain": [
       "Neighbourhood        No-show\n",
       "Rare                 0          17202\n",
       "JARDIM CAMBURI       0           6252\n",
       "MARIA ORTIZ          0           4586\n",
       "Rare                 1           4192\n",
       "RESISTÊNCIA          0           3525\n",
       "JARDIM DA PENHA      0           3246\n",
       "SANTA MARTHA         0           2635\n",
       "CENTRO               0           2631\n",
       "ITARARÉ              0           2591\n",
       "TABUAZEIRO           0           2559\n",
       "SANTO ANTÔNIO        0           2262\n",
       "BONFIM               0           2223\n",
       "JESUS DE NAZARETH    0           2157\n",
       "SANTO ANDRÉ          0           2063\n",
       "JABOUR               0           2058\n",
       "CARATOÍRA            0           1974\n",
       "SÃO PEDRO            0           1933\n",
       "NOVA PALESTINA       0           1862\n",
       "DA PENHA             0           1788\n",
       "ROMÃO                0           1741\n",
       "ANDORINHAS           0           1741\n",
       "ILHA DO PRÍNCIPE     0           1734\n",
       "GURIGICA             0           1562\n",
       "SÃO JOSÉ             0           1549\n",
       "FORTE SÃO JOÃO       0           1543\n",
       "ILHA DE SANTA MARIA  0           1524\n",
       "BELA VISTA           0           1523\n",
       "MARUÍPE              0           1478\n",
       "SÃO CRISTÓVÃO        0           1473\n",
       "JARDIM CAMBURI       1           1465\n",
       "REDENÇÃO             0           1278\n",
       "MARIA ORTIZ          1           1219\n",
       "JOANA D´ARC          0           1169\n",
       "SÃO BENEDITO         0           1152\n",
       "CONSOLAÇÃO           0           1139\n",
       "CRUZAMENTO           0           1094\n",
       "SANTA TEREZA         0           1060\n",
       "PRAIA DO SUÁ         0            994\n",
       "ITARARÉ              1            923\n",
       "SANTOS DUMONT        0            907\n",
       "RESISTÊNCIA          1            906\n",
       "CENTRO               1            703\n",
       "JESUS DE NAZARETH    1            696\n",
       "JARDIM DA PENHA      1            631\n",
       "CARATOÍRA            1            591\n",
       "TABUAZEIRO           1            573\n",
       "BONFIM               1            550\n",
       "ILHA DO PRÍNCIPE     1            532\n",
       "ANDORINHAS           1            521\n",
       "SÃO PEDRO            1            515\n",
       "SANTO ANDRÉ          1            508\n",
       "SANTA MARTHA         1            496\n",
       "SANTO ANTÔNIO        1            484\n",
       "ROMÃO                1            474\n",
       "GURIGICA             1            456\n",
       "JABOUR               1            451\n",
       "DA PENHA             1            429\n",
       "SÃO JOSÉ             1            428\n",
       "MARUÍPE              1            424\n",
       "NOVA PALESTINA       1            402\n",
       "BELA VISTA           1            384\n",
       "SANTOS DUMONT        1            369\n",
       "SÃO CRISTÓVÃO        1            363\n",
       "ILHA DE SANTA MARIA  1            361\n",
       "FORTE SÃO JOÃO       1            346\n",
       "CRUZAMENTO           1            304\n",
       "PRAIA DO SUÁ         1            294\n",
       "SÃO BENEDITO         1            287\n",
       "REDENÇÃO             1            275\n",
       "SANTA TEREZA         1            272\n",
       "JOANA D´ARC          1            258\n",
       "CONSOLAÇÃO           1            237\n",
       "Name: count, dtype: int64"
      ]
     },
     "execution_count": 46,
     "metadata": {},
     "output_type": "execute_result"
    }
   ],
   "source": [
    "df_ohe.groupby('Neighbourhood')['No-show'].value_counts().sort_values(ascending = False)"
   ]
  },
  {
   "cell_type": "code",
   "execution_count": 47,
   "id": "0dca8d54",
   "metadata": {},
   "outputs": [
    {
     "data": {
      "application/vnd.microsoft.datawrangler.viewer.v0+json": {
       "columns": [
        {
         "name": "PatientId",
         "rawType": "float64",
         "type": "float"
        },
        {
         "name": "ScheduledDay",
         "rawType": "datetime64[ns, UTC]",
         "type": "unknown"
        },
        {
         "name": "AppointmentDay",
         "rawType": "datetime64[ns, UTC]",
         "type": "unknown"
        },
        {
         "name": "Age",
         "rawType": "int64",
         "type": "integer"
        },
        {
         "name": "Neighbourhood",
         "rawType": "object",
         "type": "string"
        },
        {
         "name": "Handcap",
         "rawType": "object",
         "type": "unknown"
        },
        {
         "name": "Gender_M",
         "rawType": "bool",
         "type": "boolean"
        },
        {
         "name": "Scholarship_1",
         "rawType": "bool",
         "type": "boolean"
        },
        {
         "name": "Hipertension_1",
         "rawType": "bool",
         "type": "boolean"
        },
        {
         "name": "Diabetes_1",
         "rawType": "bool",
         "type": "boolean"
        },
        {
         "name": "Alcoholism_1",
         "rawType": "bool",
         "type": "boolean"
        },
        {
         "name": "SMS_received_1",
         "rawType": "bool",
         "type": "boolean"
        },
        {
         "name": "No-show_Yes",
         "rawType": "bool",
         "type": "boolean"
        },
        {
         "name": "Appointment_Year",
         "rawType": "int32",
         "type": "integer"
        },
        {
         "name": "Appointment_Month",
         "rawType": "int32",
         "type": "integer"
        },
        {
         "name": "Appointment_Day",
         "rawType": "int32",
         "type": "integer"
        },
        {
         "name": "Appointment_Day_Name",
         "rawType": "object",
         "type": "string"
        },
        {
         "name": "Schedule_Year",
         "rawType": "int32",
         "type": "integer"
        },
        {
         "name": "Schedule_Month",
         "rawType": "int32",
         "type": "integer"
        },
        {
         "name": "Schedule_Day",
         "rawType": "int32",
         "type": "integer"
        },
        {
         "name": "Schedule_Day_Name",
         "rawType": "object",
         "type": "string"
        },
        {
         "name": "Schedule_Hour",
         "rawType": "int32",
         "type": "integer"
        },
        {
         "name": "Schedule_Minutes",
         "rawType": "int32",
         "type": "integer"
        },
        {
         "name": "Appointment_Diff",
         "rawType": "int64",
         "type": "integer"
        },
        {
         "name": "No-show",
         "rawType": "int64",
         "type": "integer"
        },
        {
         "name": "Age_MinMax_Scaler",
         "rawType": "float64",
         "type": "float"
        }
       ],
       "ref": "967a0389-911f-4b22-a97c-9a9c96846188",
       "rows": [
        [
         "29872499824296.0",
         "2016-04-29 18:38:08+00:00",
         "2016-04-29 00:00:00+00:00",
         "62",
         "JARDIM DA PENHA",
         "0",
         "False",
         "False",
         "True",
         "False",
         "False",
         "False",
         "False",
         "2016",
         "4",
         "29",
         "Friday",
         "2016",
         "4",
         "29",
         "Friday",
         "18",
         "38",
         "-1",
         "0",
         "0.543103448275862"
        ],
        [
         "558997776694438.0",
         "2016-04-29 16:08:27+00:00",
         "2016-04-29 00:00:00+00:00",
         "56",
         "JARDIM DA PENHA",
         "0",
         "True",
         "False",
         "False",
         "False",
         "False",
         "False",
         "False",
         "2016",
         "4",
         "29",
         "Friday",
         "2016",
         "4",
         "29",
         "Friday",
         "16",
         "8",
         "-1",
         "0",
         "0.49137931034482757"
        ],
        [
         "4262962299951.0",
         "2016-04-29 16:19:04+00:00",
         "2016-04-29 00:00:00+00:00",
         "62",
         "Rare",
         "0",
         "False",
         "False",
         "False",
         "False",
         "False",
         "False",
         "False",
         "2016",
         "4",
         "29",
         "Friday",
         "2016",
         "4",
         "29",
         "Friday",
         "16",
         "19",
         "-1",
         "0",
         "0.543103448275862"
        ],
        [
         "867951213174.0",
         "2016-04-29 17:29:31+00:00",
         "2016-04-29 00:00:00+00:00",
         "8",
         "Rare",
         "0",
         "False",
         "False",
         "False",
         "False",
         "False",
         "False",
         "False",
         "2016",
         "4",
         "29",
         "Friday",
         "2016",
         "4",
         "29",
         "Friday",
         "17",
         "29",
         "-1",
         "0",
         "0.07758620689655173"
        ],
        [
         "8841186448183.0",
         "2016-04-29 16:07:23+00:00",
         "2016-04-29 00:00:00+00:00",
         "56",
         "JARDIM DA PENHA",
         "0",
         "False",
         "False",
         "True",
         "True",
         "False",
         "False",
         "False",
         "2016",
         "4",
         "29",
         "Friday",
         "2016",
         "4",
         "29",
         "Friday",
         "16",
         "7",
         "-1",
         "0",
         "0.49137931034482757"
        ]
       ],
       "shape": {
        "columns": 25,
        "rows": 5
       }
      },
      "text/html": [
       "<div>\n",
       "<style scoped>\n",
       "    .dataframe tbody tr th:only-of-type {\n",
       "        vertical-align: middle;\n",
       "    }\n",
       "\n",
       "    .dataframe tbody tr th {\n",
       "        vertical-align: top;\n",
       "    }\n",
       "\n",
       "    .dataframe thead th {\n",
       "        text-align: right;\n",
       "    }\n",
       "</style>\n",
       "<table border=\"1\" class=\"dataframe\">\n",
       "  <thead>\n",
       "    <tr style=\"text-align: right;\">\n",
       "      <th></th>\n",
       "      <th>ScheduledDay</th>\n",
       "      <th>AppointmentDay</th>\n",
       "      <th>Age</th>\n",
       "      <th>Neighbourhood</th>\n",
       "      <th>Handcap</th>\n",
       "      <th>Gender_M</th>\n",
       "      <th>Scholarship_1</th>\n",
       "      <th>Hipertension_1</th>\n",
       "      <th>Diabetes_1</th>\n",
       "      <th>Alcoholism_1</th>\n",
       "      <th>SMS_received_1</th>\n",
       "      <th>No-show_Yes</th>\n",
       "      <th>Appointment_Year</th>\n",
       "      <th>Appointment_Month</th>\n",
       "      <th>Appointment_Day</th>\n",
       "      <th>Appointment_Day_Name</th>\n",
       "      <th>Schedule_Year</th>\n",
       "      <th>Schedule_Month</th>\n",
       "      <th>Schedule_Day</th>\n",
       "      <th>Schedule_Day_Name</th>\n",
       "      <th>Schedule_Hour</th>\n",
       "      <th>Schedule_Minutes</th>\n",
       "      <th>Appointment_Diff</th>\n",
       "      <th>No-show</th>\n",
       "      <th>Age_MinMax_Scaler</th>\n",
       "    </tr>\n",
       "    <tr>\n",
       "      <th>PatientId</th>\n",
       "      <th></th>\n",
       "      <th></th>\n",
       "      <th></th>\n",
       "      <th></th>\n",
       "      <th></th>\n",
       "      <th></th>\n",
       "      <th></th>\n",
       "      <th></th>\n",
       "      <th></th>\n",
       "      <th></th>\n",
       "      <th></th>\n",
       "      <th></th>\n",
       "      <th></th>\n",
       "      <th></th>\n",
       "      <th></th>\n",
       "      <th></th>\n",
       "      <th></th>\n",
       "      <th></th>\n",
       "      <th></th>\n",
       "      <th></th>\n",
       "      <th></th>\n",
       "      <th></th>\n",
       "      <th></th>\n",
       "      <th></th>\n",
       "      <th></th>\n",
       "    </tr>\n",
       "  </thead>\n",
       "  <tbody>\n",
       "    <tr>\n",
       "      <th>29872499824296.000</th>\n",
       "      <td>2016-04-29 18:38:08+00:00</td>\n",
       "      <td>2016-04-29 00:00:00+00:00</td>\n",
       "      <td>62</td>\n",
       "      <td>JARDIM DA PENHA</td>\n",
       "      <td>0</td>\n",
       "      <td>False</td>\n",
       "      <td>False</td>\n",
       "      <td>True</td>\n",
       "      <td>False</td>\n",
       "      <td>False</td>\n",
       "      <td>False</td>\n",
       "      <td>False</td>\n",
       "      <td>2016</td>\n",
       "      <td>4</td>\n",
       "      <td>29</td>\n",
       "      <td>Friday</td>\n",
       "      <td>2016</td>\n",
       "      <td>4</td>\n",
       "      <td>29</td>\n",
       "      <td>Friday</td>\n",
       "      <td>18</td>\n",
       "      <td>38</td>\n",
       "      <td>-1</td>\n",
       "      <td>0</td>\n",
       "      <td>0.543</td>\n",
       "    </tr>\n",
       "    <tr>\n",
       "      <th>558997776694438.000</th>\n",
       "      <td>2016-04-29 16:08:27+00:00</td>\n",
       "      <td>2016-04-29 00:00:00+00:00</td>\n",
       "      <td>56</td>\n",
       "      <td>JARDIM DA PENHA</td>\n",
       "      <td>0</td>\n",
       "      <td>True</td>\n",
       "      <td>False</td>\n",
       "      <td>False</td>\n",
       "      <td>False</td>\n",
       "      <td>False</td>\n",
       "      <td>False</td>\n",
       "      <td>False</td>\n",
       "      <td>2016</td>\n",
       "      <td>4</td>\n",
       "      <td>29</td>\n",
       "      <td>Friday</td>\n",
       "      <td>2016</td>\n",
       "      <td>4</td>\n",
       "      <td>29</td>\n",
       "      <td>Friday</td>\n",
       "      <td>16</td>\n",
       "      <td>8</td>\n",
       "      <td>-1</td>\n",
       "      <td>0</td>\n",
       "      <td>0.491</td>\n",
       "    </tr>\n",
       "    <tr>\n",
       "      <th>4262962299951.000</th>\n",
       "      <td>2016-04-29 16:19:04+00:00</td>\n",
       "      <td>2016-04-29 00:00:00+00:00</td>\n",
       "      <td>62</td>\n",
       "      <td>Rare</td>\n",
       "      <td>0</td>\n",
       "      <td>False</td>\n",
       "      <td>False</td>\n",
       "      <td>False</td>\n",
       "      <td>False</td>\n",
       "      <td>False</td>\n",
       "      <td>False</td>\n",
       "      <td>False</td>\n",
       "      <td>2016</td>\n",
       "      <td>4</td>\n",
       "      <td>29</td>\n",
       "      <td>Friday</td>\n",
       "      <td>2016</td>\n",
       "      <td>4</td>\n",
       "      <td>29</td>\n",
       "      <td>Friday</td>\n",
       "      <td>16</td>\n",
       "      <td>19</td>\n",
       "      <td>-1</td>\n",
       "      <td>0</td>\n",
       "      <td>0.543</td>\n",
       "    </tr>\n",
       "    <tr>\n",
       "      <th>867951213174.000</th>\n",
       "      <td>2016-04-29 17:29:31+00:00</td>\n",
       "      <td>2016-04-29 00:00:00+00:00</td>\n",
       "      <td>8</td>\n",
       "      <td>Rare</td>\n",
       "      <td>0</td>\n",
       "      <td>False</td>\n",
       "      <td>False</td>\n",
       "      <td>False</td>\n",
       "      <td>False</td>\n",
       "      <td>False</td>\n",
       "      <td>False</td>\n",
       "      <td>False</td>\n",
       "      <td>2016</td>\n",
       "      <td>4</td>\n",
       "      <td>29</td>\n",
       "      <td>Friday</td>\n",
       "      <td>2016</td>\n",
       "      <td>4</td>\n",
       "      <td>29</td>\n",
       "      <td>Friday</td>\n",
       "      <td>17</td>\n",
       "      <td>29</td>\n",
       "      <td>-1</td>\n",
       "      <td>0</td>\n",
       "      <td>0.078</td>\n",
       "    </tr>\n",
       "    <tr>\n",
       "      <th>8841186448183.000</th>\n",
       "      <td>2016-04-29 16:07:23+00:00</td>\n",
       "      <td>2016-04-29 00:00:00+00:00</td>\n",
       "      <td>56</td>\n",
       "      <td>JARDIM DA PENHA</td>\n",
       "      <td>0</td>\n",
       "      <td>False</td>\n",
       "      <td>False</td>\n",
       "      <td>True</td>\n",
       "      <td>True</td>\n",
       "      <td>False</td>\n",
       "      <td>False</td>\n",
       "      <td>False</td>\n",
       "      <td>2016</td>\n",
       "      <td>4</td>\n",
       "      <td>29</td>\n",
       "      <td>Friday</td>\n",
       "      <td>2016</td>\n",
       "      <td>4</td>\n",
       "      <td>29</td>\n",
       "      <td>Friday</td>\n",
       "      <td>16</td>\n",
       "      <td>7</td>\n",
       "      <td>-1</td>\n",
       "      <td>0</td>\n",
       "      <td>0.491</td>\n",
       "    </tr>\n",
       "  </tbody>\n",
       "</table>\n",
       "</div>"
      ],
      "text/plain": [
       "                                 ScheduledDay            AppointmentDay  Age    Neighbourhood Handcap  Gender_M  Scholarship_1  Hipertension_1  Diabetes_1  Alcoholism_1  SMS_received_1  No-show_Yes  Appointment_Year  Appointment_Month  Appointment_Day Appointment_Day_Name  Schedule_Year  Schedule_Month  Schedule_Day Schedule_Day_Name  Schedule_Hour  Schedule_Minutes  Appointment_Diff  No-show  Age_MinMax_Scaler\n",
       "PatientId                                                                                                                                                                                                                                                                                                                                                                                                                     \n",
       "29872499824296.000  2016-04-29 18:38:08+00:00 2016-04-29 00:00:00+00:00   62  JARDIM DA PENHA       0     False          False            True       False         False           False        False              2016                  4               29               Friday           2016               4            29            Friday             18                38                -1        0              0.543\n",
       "558997776694438.000 2016-04-29 16:08:27+00:00 2016-04-29 00:00:00+00:00   56  JARDIM DA PENHA       0      True          False           False       False         False           False        False              2016                  4               29               Friday           2016               4            29            Friday             16                 8                -1        0              0.491\n",
       "4262962299951.000   2016-04-29 16:19:04+00:00 2016-04-29 00:00:00+00:00   62             Rare       0     False          False           False       False         False           False        False              2016                  4               29               Friday           2016               4            29            Friday             16                19                -1        0              0.543\n",
       "867951213174.000    2016-04-29 17:29:31+00:00 2016-04-29 00:00:00+00:00    8             Rare       0     False          False           False       False         False           False        False              2016                  4               29               Friday           2016               4            29            Friday             17                29                -1        0              0.078\n",
       "8841186448183.000   2016-04-29 16:07:23+00:00 2016-04-29 00:00:00+00:00   56  JARDIM DA PENHA       0     False          False            True        True         False           False        False              2016                  4               29               Friday           2016               4            29            Friday             16                 7                -1        0              0.491"
      ]
     },
     "execution_count": 47,
     "metadata": {},
     "output_type": "execute_result"
    }
   ],
   "source": [
    "from sklearn.preprocessing import MinMaxScaler\n",
    "minmax_scaler = MinMaxScaler()\n",
    "df_ohe['Age_MinMax_Scaler'] = minmax_scaler.fit_transform(df_ohe[['Age']])\n",
    "df_ohe.head()"
   ]
  },
  {
   "cell_type": "code",
   "execution_count": 48,
   "id": "11e4e7ba",
   "metadata": {},
   "outputs": [
    {
     "name": "stdout",
     "output_type": "stream",
     "text": [
      "Index(['ScheduledDay', 'AppointmentDay', 'Age', 'Neighbourhood', 'Handcap', 'Gender_M', 'Scholarship_1', 'Hipertension_1', 'Diabetes_1', 'Alcoholism_1', 'SMS_received_1', 'No-show_Yes', 'Appointment_Year', 'Appointment_Month', 'Appointment_Day', 'Appointment_Day_Name', 'Schedule_Year', 'Schedule_Month', 'Schedule_Day', 'Schedule_Day_Name', 'Schedule_Hour', 'Schedule_Minutes', 'Appointment_Diff', 'No-show', 'Age_MinMax_Scaler'], dtype='object')\n",
      "              precision    recall  f1-score   support\n",
      "\n",
      "           0       0.80      0.99      0.89     17669\n",
      "           1       0.34      0.02      0.04      4437\n",
      "\n",
      "    accuracy                           0.80     22106\n",
      "   macro avg       0.57      0.51      0.46     22106\n",
      "weighted avg       0.71      0.80      0.72     22106\n",
      "\n"
     ]
    }
   ],
   "source": [
    "# Modelling\n",
    "# X ve y değerlerini ayır\n",
    "print(df_ohe.columns)\n",
    "\n",
    "\n",
    "\n",
    "X = df_ohe.drop(['No-show','No-show_Yes','ScheduledDay', 'AppointmentDay','Neighbourhood','Appointment_Day_Name','Schedule_Day_Name'], axis = 1)\n",
    "\n",
    "y = df_ohe[\"No-show\"]\n",
    "\n",
    "# train_test_split\n",
    "X_train, X_test, y_train, y_test = train_test_split(X,y, test_size= 0.2, random_state= 42)\n",
    "\n",
    "\n",
    "scaler = StandardScaler()\n",
    "X_train_scaled = scaler.fit_transform(X_train)\n",
    "X_test_scaled = scaler.transform(X_test)\n",
    "# Models\n",
    "# 1. Logistic Regression\n",
    "lr_model = LogisticRegression(max_iter = 500)\n",
    "lr_model.fit(X_train_scaled, y_train)\n",
    "\n",
    "y_pred_lr = lr_model.predict(X_test_scaled)\n",
    "print(classification_report(y_test, y_pred_lr))\n",
    "\n",
    "# Dengesiz veri seti ile çalışıyoruz, gelmeyenleri tahmin etme oranı çok düşük."
   ]
  },
  {
   "cell_type": "code",
   "execution_count": 49,
   "id": "c11b700c",
   "metadata": {},
   "outputs": [
    {
     "name": "stdout",
     "output_type": "stream",
     "text": [
      "No-show\n",
      "0   0.798\n",
      "1   0.202\n",
      "Name: proportion, dtype: float64\n"
     ]
    }
   ],
   "source": [
    "print(y.value_counts(normalize=True))"
   ]
  },
  {
   "cell_type": "code",
   "execution_count": 50,
   "id": "db937c3b",
   "metadata": {},
   "outputs": [
    {
     "name": "stdout",
     "output_type": "stream",
     "text": [
      "              precision    recall  f1-score   support\n",
      "\n",
      "           0       0.86      0.68      0.76     17669\n",
      "           1       0.31      0.55      0.39      4437\n",
      "\n",
      "    accuracy                           0.66     22106\n",
      "   macro avg       0.58      0.62      0.58     22106\n",
      "weighted avg       0.75      0.66      0.69     22106\n",
      "\n",
      "Fitting 5 folds for each of 10 candidates, totalling 50 fits\n",
      "Logistic Regreyon Modelinin En iyi parametreler: {'solver': 'saga', 'penalty': 'elasticnet', 'l1_ratio': 0.5, 'C': 100}\n",
      "Logistik Regresyon Modelinin En iyi skoru: 0.694581129101317\n"
     ]
    },
    {
     "name": "stderr",
     "output_type": "stream",
     "text": [
      "c:\\Users\\Asus\\anaconda3\\Lib\\site-packages\\sklearn\\linear_model\\_sag.py:348: ConvergenceWarning: The max_iter was reached which means the coef_ did not converge\n",
      "  warnings.warn(\n"
     ]
    },
    {
     "data": {
      "text/plain": [
       "' \\nlr_grid = GridSearchCV(LogisticRegression(max_iter = 1000), param_grid= param_grid, cv = 5,scoring= \\'f1_weighted\\') \\nlr_grid.fit(X_train_scaled, y_train) \\n\\nprint(\"Logistic Regreyon Modelinin En iyi parametreler:\", lr_grid.best_params_)\\nprint(\"Logistik Regresyon Modelinin En iyi skoru:\", lr_grid.best_score_)\\n\\n# En iyi modeli testte kullan\\nlr_best_model = lr_grid.best_estimator_\\ny_pred = lr_best_model.predict(X_test_scaled)\\n'"
      ]
     },
     "execution_count": 50,
     "metadata": {},
     "output_type": "execute_result"
    }
   ],
   "source": [
    "# Dengelemek lazım\n",
    "lr_model = LogisticRegression(max_iter = 1000, class_weight= 'balanced')\n",
    "lr_model.fit(X_train_scaled, y_train)\n",
    "\n",
    "y_pred_lr = lr_model.predict(X_test_scaled)\n",
    "print(classification_report(y_test, y_pred_lr))\n",
    "# Bellek için RandomSearch kullanalım.\n",
    "from sklearn.model_selection import GridSearchCV # belleği daha çok yorar. \n",
    "from sklearn.model_selection import RandomizedSearchCV # rastgele örnekler\n",
    " \n",
    "param_grid = {\n",
    "    'C': [0.01, 0.1, 1, 10, 100],  # Regularization strength\n",
    "    'penalty': ['elasticnet'],\n",
    "    'solver': ['saga'],\n",
    "    'l1_ratio': [0, 0.1,0.2, 0.3, 0.4, 0.5, 0.6,0.7, 0.8, 0.9, 1]\n",
    "}\n",
    "\n",
    "\n",
    "rs_model = RandomizedSearchCV(\n",
    "    estimator= LogisticRegression(max_iter=1000, class_weight='balanced'),\n",
    "    param_distributions=param_grid,\n",
    "    n_iter= 10,  # sadece 10 rastgele kombinasyon dener\n",
    "    cv=5,\n",
    "    scoring='f1_weighted',\n",
    "    n_jobs=-1, # bütün thread'lerin hepsini kullan \n",
    "    random_state=42,\n",
    "    verbose = 2 # işlemlerin log değerini de görelim.\n",
    ")\n",
    "\n",
    "rs_model.fit(X_train_scaled, y_train)\n",
    "\n",
    "\n",
    "print(\"Logistic Regreyon Modelinin En iyi parametreler:\", rs_model.best_params_)\n",
    "print(\"Logistik Regresyon Modelinin En iyi skoru:\",rs_model.best_score_)\n",
    "\n",
    "rs_best_model = rs_model.best_estimator_\n",
    "y_pred = rs_best_model.predict(X_test_scaled)\n",
    "print(rs_best_model)\n",
    "print(confusion_matrix(y_test, y_pred))\n",
    "\n",
    "# 12 dakika sürmesi beklenmektedir\n",
    "\"\"\" \n",
    "lr_grid = GridSearchCV(LogisticRegression(max_iter = 1000), param_grid= param_grid, cv = 5,scoring= 'f1_weighted') \n",
    "lr_grid.fit(X_train_scaled, y_train) \n",
    "\n",
    "print(\"Logistic Regreyon Modelinin En iyi parametreler:\", lr_grid.best_params_)\n",
    "print(\"Logistik Regresyon Modelinin En iyi skoru:\", lr_grid.best_score_)\n",
    "\n",
    "# En iyi modeli testte kullan\n",
    "lr_best_model = lr_grid.best_estimator_\n",
    "y_pred = lr_best_model.predict(X_test_scaled)\n",
    "\"\"\"\n"
   ]
  },
  {
   "cell_type": "code",
   "execution_count": 51,
   "id": "2d732f8f",
   "metadata": {},
   "outputs": [
    {
     "name": "stdout",
     "output_type": "stream",
     "text": [
      "              precision    recall  f1-score   support\n",
      "\n",
      "           0       0.80      0.99      0.89     17669\n",
      "           1       0.39      0.03      0.06      4437\n",
      "\n",
      "    accuracy                           0.80     22106\n",
      "   macro avg       0.59      0.51      0.47     22106\n",
      "weighted avg       0.72      0.80      0.72     22106\n",
      "\n"
     ]
    }
   ],
   "source": [
    "# Karar Ağaçları\n",
    "dtc_model = DecisionTreeClassifier(\n",
    "    criterion='gini',\n",
    "    splitter='best',\n",
    "    max_depth=10,\n",
    "    min_samples_leaf=2\n",
    ")\n",
    "\n",
    "dtc_model.fit(X_train_scaled, y_train)\n",
    "\n",
    "y_pred_dtc = dtc_model.predict(X_test_scaled)\n",
    "print(classification_report(y_test, y_pred_dtc))"
   ]
  },
  {
   "cell_type": "code",
   "execution_count": 52,
   "id": "e7a05b45",
   "metadata": {},
   "outputs": [
    {
     "name": "stdout",
     "output_type": "stream",
     "text": [
      "              precision    recall  f1-score   support\n",
      "\n",
      "           0       0.80      1.00      0.89     17669\n",
      "           1       1.00      0.00      0.00      4437\n",
      "\n",
      "    accuracy                           0.80     22106\n",
      "   macro avg       0.90      0.50      0.44     22106\n",
      "weighted avg       0.84      0.80      0.71     22106\n",
      "\n"
     ]
    }
   ],
   "source": [
    "# Rastgele Ormanlar\n",
    "\n",
    "rfc_model = RandomForestClassifier(\n",
    "    criterion= \"log_loss\",\n",
    "    n_estimators= 100,\n",
    "    max_depth = 10,\n",
    "    min_samples_leaf= 4\n",
    ")\n",
    "rfc_model.fit(X_train_scaled, y_train)\n",
    "\n",
    "y_pred_rfc = rfc_model.predict(X_test_scaled)\n",
    "print(classification_report(y_test, y_pred_rfc))"
   ]
  },
  {
   "cell_type": "markdown",
   "id": "1e244906",
   "metadata": {},
   "source": [
    "Modeller yukarıda görüldüğü üzere overfitting'e yatkındır. Bunun nedeni de veri setinin dağılımının iyi ölçeklenmemiş olması olabilir.GridSearchCV, RandomizedSearchCV gibi yöntemleri kullanarak modellerin en iyi parametrelerini öğrenebiliriz, aşırı öğrenmenin önüne geçebiliriz. \n"
   ]
  },
  {
   "cell_type": "code",
   "execution_count": 53,
   "id": "7d42bbff",
   "metadata": {},
   "outputs": [
    {
     "data": {
      "text/html": [
       "<style>#sk-container-id-1 {\n",
       "  /* Definition of color scheme common for light and dark mode */\n",
       "  --sklearn-color-text: #000;\n",
       "  --sklearn-color-text-muted: #666;\n",
       "  --sklearn-color-line: gray;\n",
       "  /* Definition of color scheme for unfitted estimators */\n",
       "  --sklearn-color-unfitted-level-0: #fff5e6;\n",
       "  --sklearn-color-unfitted-level-1: #f6e4d2;\n",
       "  --sklearn-color-unfitted-level-2: #ffe0b3;\n",
       "  --sklearn-color-unfitted-level-3: chocolate;\n",
       "  /* Definition of color scheme for fitted estimators */\n",
       "  --sklearn-color-fitted-level-0: #f0f8ff;\n",
       "  --sklearn-color-fitted-level-1: #d4ebff;\n",
       "  --sklearn-color-fitted-level-2: #b3dbfd;\n",
       "  --sklearn-color-fitted-level-3: cornflowerblue;\n",
       "\n",
       "  /* Specific color for light theme */\n",
       "  --sklearn-color-text-on-default-background: var(--sg-text-color, var(--theme-code-foreground, var(--jp-content-font-color1, black)));\n",
       "  --sklearn-color-background: var(--sg-background-color, var(--theme-background, var(--jp-layout-color0, white)));\n",
       "  --sklearn-color-border-box: var(--sg-text-color, var(--theme-code-foreground, var(--jp-content-font-color1, black)));\n",
       "  --sklearn-color-icon: #696969;\n",
       "\n",
       "  @media (prefers-color-scheme: dark) {\n",
       "    /* Redefinition of color scheme for dark theme */\n",
       "    --sklearn-color-text-on-default-background: var(--sg-text-color, var(--theme-code-foreground, var(--jp-content-font-color1, white)));\n",
       "    --sklearn-color-background: var(--sg-background-color, var(--theme-background, var(--jp-layout-color0, #111)));\n",
       "    --sklearn-color-border-box: var(--sg-text-color, var(--theme-code-foreground, var(--jp-content-font-color1, white)));\n",
       "    --sklearn-color-icon: #878787;\n",
       "  }\n",
       "}\n",
       "\n",
       "#sk-container-id-1 {\n",
       "  color: var(--sklearn-color-text);\n",
       "}\n",
       "\n",
       "#sk-container-id-1 pre {\n",
       "  padding: 0;\n",
       "}\n",
       "\n",
       "#sk-container-id-1 input.sk-hidden--visually {\n",
       "  border: 0;\n",
       "  clip: rect(1px 1px 1px 1px);\n",
       "  clip: rect(1px, 1px, 1px, 1px);\n",
       "  height: 1px;\n",
       "  margin: -1px;\n",
       "  overflow: hidden;\n",
       "  padding: 0;\n",
       "  position: absolute;\n",
       "  width: 1px;\n",
       "}\n",
       "\n",
       "#sk-container-id-1 div.sk-dashed-wrapped {\n",
       "  border: 1px dashed var(--sklearn-color-line);\n",
       "  margin: 0 0.4em 0.5em 0.4em;\n",
       "  box-sizing: border-box;\n",
       "  padding-bottom: 0.4em;\n",
       "  background-color: var(--sklearn-color-background);\n",
       "}\n",
       "\n",
       "#sk-container-id-1 div.sk-container {\n",
       "  /* jupyter's `normalize.less` sets `[hidden] { display: none; }`\n",
       "     but bootstrap.min.css set `[hidden] { display: none !important; }`\n",
       "     so we also need the `!important` here to be able to override the\n",
       "     default hidden behavior on the sphinx rendered scikit-learn.org.\n",
       "     See: https://github.com/scikit-learn/scikit-learn/issues/21755 */\n",
       "  display: inline-block !important;\n",
       "  position: relative;\n",
       "}\n",
       "\n",
       "#sk-container-id-1 div.sk-text-repr-fallback {\n",
       "  display: none;\n",
       "}\n",
       "\n",
       "div.sk-parallel-item,\n",
       "div.sk-serial,\n",
       "div.sk-item {\n",
       "  /* draw centered vertical line to link estimators */\n",
       "  background-image: linear-gradient(var(--sklearn-color-text-on-default-background), var(--sklearn-color-text-on-default-background));\n",
       "  background-size: 2px 100%;\n",
       "  background-repeat: no-repeat;\n",
       "  background-position: center center;\n",
       "}\n",
       "\n",
       "/* Parallel-specific style estimator block */\n",
       "\n",
       "#sk-container-id-1 div.sk-parallel-item::after {\n",
       "  content: \"\";\n",
       "  width: 100%;\n",
       "  border-bottom: 2px solid var(--sklearn-color-text-on-default-background);\n",
       "  flex-grow: 1;\n",
       "}\n",
       "\n",
       "#sk-container-id-1 div.sk-parallel {\n",
       "  display: flex;\n",
       "  align-items: stretch;\n",
       "  justify-content: center;\n",
       "  background-color: var(--sklearn-color-background);\n",
       "  position: relative;\n",
       "}\n",
       "\n",
       "#sk-container-id-1 div.sk-parallel-item {\n",
       "  display: flex;\n",
       "  flex-direction: column;\n",
       "}\n",
       "\n",
       "#sk-container-id-1 div.sk-parallel-item:first-child::after {\n",
       "  align-self: flex-end;\n",
       "  width: 50%;\n",
       "}\n",
       "\n",
       "#sk-container-id-1 div.sk-parallel-item:last-child::after {\n",
       "  align-self: flex-start;\n",
       "  width: 50%;\n",
       "}\n",
       "\n",
       "#sk-container-id-1 div.sk-parallel-item:only-child::after {\n",
       "  width: 0;\n",
       "}\n",
       "\n",
       "/* Serial-specific style estimator block */\n",
       "\n",
       "#sk-container-id-1 div.sk-serial {\n",
       "  display: flex;\n",
       "  flex-direction: column;\n",
       "  align-items: center;\n",
       "  background-color: var(--sklearn-color-background);\n",
       "  padding-right: 1em;\n",
       "  padding-left: 1em;\n",
       "}\n",
       "\n",
       "\n",
       "/* Toggleable style: style used for estimator/Pipeline/ColumnTransformer box that is\n",
       "clickable and can be expanded/collapsed.\n",
       "- Pipeline and ColumnTransformer use this feature and define the default style\n",
       "- Estimators will overwrite some part of the style using the `sk-estimator` class\n",
       "*/\n",
       "\n",
       "/* Pipeline and ColumnTransformer style (default) */\n",
       "\n",
       "#sk-container-id-1 div.sk-toggleable {\n",
       "  /* Default theme specific background. It is overwritten whether we have a\n",
       "  specific estimator or a Pipeline/ColumnTransformer */\n",
       "  background-color: var(--sklearn-color-background);\n",
       "}\n",
       "\n",
       "/* Toggleable label */\n",
       "#sk-container-id-1 label.sk-toggleable__label {\n",
       "  cursor: pointer;\n",
       "  display: flex;\n",
       "  width: 100%;\n",
       "  margin-bottom: 0;\n",
       "  padding: 0.5em;\n",
       "  box-sizing: border-box;\n",
       "  text-align: center;\n",
       "  align-items: start;\n",
       "  justify-content: space-between;\n",
       "  gap: 0.5em;\n",
       "}\n",
       "\n",
       "#sk-container-id-1 label.sk-toggleable__label .caption {\n",
       "  font-size: 0.6rem;\n",
       "  font-weight: lighter;\n",
       "  color: var(--sklearn-color-text-muted);\n",
       "}\n",
       "\n",
       "#sk-container-id-1 label.sk-toggleable__label-arrow:before {\n",
       "  /* Arrow on the left of the label */\n",
       "  content: \"▸\";\n",
       "  float: left;\n",
       "  margin-right: 0.25em;\n",
       "  color: var(--sklearn-color-icon);\n",
       "}\n",
       "\n",
       "#sk-container-id-1 label.sk-toggleable__label-arrow:hover:before {\n",
       "  color: var(--sklearn-color-text);\n",
       "}\n",
       "\n",
       "/* Toggleable content - dropdown */\n",
       "\n",
       "#sk-container-id-1 div.sk-toggleable__content {\n",
       "  max-height: 0;\n",
       "  max-width: 0;\n",
       "  overflow: hidden;\n",
       "  text-align: left;\n",
       "  /* unfitted */\n",
       "  background-color: var(--sklearn-color-unfitted-level-0);\n",
       "}\n",
       "\n",
       "#sk-container-id-1 div.sk-toggleable__content.fitted {\n",
       "  /* fitted */\n",
       "  background-color: var(--sklearn-color-fitted-level-0);\n",
       "}\n",
       "\n",
       "#sk-container-id-1 div.sk-toggleable__content pre {\n",
       "  margin: 0.2em;\n",
       "  border-radius: 0.25em;\n",
       "  color: var(--sklearn-color-text);\n",
       "  /* unfitted */\n",
       "  background-color: var(--sklearn-color-unfitted-level-0);\n",
       "}\n",
       "\n",
       "#sk-container-id-1 div.sk-toggleable__content.fitted pre {\n",
       "  /* unfitted */\n",
       "  background-color: var(--sklearn-color-fitted-level-0);\n",
       "}\n",
       "\n",
       "#sk-container-id-1 input.sk-toggleable__control:checked~div.sk-toggleable__content {\n",
       "  /* Expand drop-down */\n",
       "  max-height: 200px;\n",
       "  max-width: 100%;\n",
       "  overflow: auto;\n",
       "}\n",
       "\n",
       "#sk-container-id-1 input.sk-toggleable__control:checked~label.sk-toggleable__label-arrow:before {\n",
       "  content: \"▾\";\n",
       "}\n",
       "\n",
       "/* Pipeline/ColumnTransformer-specific style */\n",
       "\n",
       "#sk-container-id-1 div.sk-label input.sk-toggleable__control:checked~label.sk-toggleable__label {\n",
       "  color: var(--sklearn-color-text);\n",
       "  background-color: var(--sklearn-color-unfitted-level-2);\n",
       "}\n",
       "\n",
       "#sk-container-id-1 div.sk-label.fitted input.sk-toggleable__control:checked~label.sk-toggleable__label {\n",
       "  background-color: var(--sklearn-color-fitted-level-2);\n",
       "}\n",
       "\n",
       "/* Estimator-specific style */\n",
       "\n",
       "/* Colorize estimator box */\n",
       "#sk-container-id-1 div.sk-estimator input.sk-toggleable__control:checked~label.sk-toggleable__label {\n",
       "  /* unfitted */\n",
       "  background-color: var(--sklearn-color-unfitted-level-2);\n",
       "}\n",
       "\n",
       "#sk-container-id-1 div.sk-estimator.fitted input.sk-toggleable__control:checked~label.sk-toggleable__label {\n",
       "  /* fitted */\n",
       "  background-color: var(--sklearn-color-fitted-level-2);\n",
       "}\n",
       "\n",
       "#sk-container-id-1 div.sk-label label.sk-toggleable__label,\n",
       "#sk-container-id-1 div.sk-label label {\n",
       "  /* The background is the default theme color */\n",
       "  color: var(--sklearn-color-text-on-default-background);\n",
       "}\n",
       "\n",
       "/* On hover, darken the color of the background */\n",
       "#sk-container-id-1 div.sk-label:hover label.sk-toggleable__label {\n",
       "  color: var(--sklearn-color-text);\n",
       "  background-color: var(--sklearn-color-unfitted-level-2);\n",
       "}\n",
       "\n",
       "/* Label box, darken color on hover, fitted */\n",
       "#sk-container-id-1 div.sk-label.fitted:hover label.sk-toggleable__label.fitted {\n",
       "  color: var(--sklearn-color-text);\n",
       "  background-color: var(--sklearn-color-fitted-level-2);\n",
       "}\n",
       "\n",
       "/* Estimator label */\n",
       "\n",
       "#sk-container-id-1 div.sk-label label {\n",
       "  font-family: monospace;\n",
       "  font-weight: bold;\n",
       "  display: inline-block;\n",
       "  line-height: 1.2em;\n",
       "}\n",
       "\n",
       "#sk-container-id-1 div.sk-label-container {\n",
       "  text-align: center;\n",
       "}\n",
       "\n",
       "/* Estimator-specific */\n",
       "#sk-container-id-1 div.sk-estimator {\n",
       "  font-family: monospace;\n",
       "  border: 1px dotted var(--sklearn-color-border-box);\n",
       "  border-radius: 0.25em;\n",
       "  box-sizing: border-box;\n",
       "  margin-bottom: 0.5em;\n",
       "  /* unfitted */\n",
       "  background-color: var(--sklearn-color-unfitted-level-0);\n",
       "}\n",
       "\n",
       "#sk-container-id-1 div.sk-estimator.fitted {\n",
       "  /* fitted */\n",
       "  background-color: var(--sklearn-color-fitted-level-0);\n",
       "}\n",
       "\n",
       "/* on hover */\n",
       "#sk-container-id-1 div.sk-estimator:hover {\n",
       "  /* unfitted */\n",
       "  background-color: var(--sklearn-color-unfitted-level-2);\n",
       "}\n",
       "\n",
       "#sk-container-id-1 div.sk-estimator.fitted:hover {\n",
       "  /* fitted */\n",
       "  background-color: var(--sklearn-color-fitted-level-2);\n",
       "}\n",
       "\n",
       "/* Specification for estimator info (e.g. \"i\" and \"?\") */\n",
       "\n",
       "/* Common style for \"i\" and \"?\" */\n",
       "\n",
       ".sk-estimator-doc-link,\n",
       "a:link.sk-estimator-doc-link,\n",
       "a:visited.sk-estimator-doc-link {\n",
       "  float: right;\n",
       "  font-size: smaller;\n",
       "  line-height: 1em;\n",
       "  font-family: monospace;\n",
       "  background-color: var(--sklearn-color-background);\n",
       "  border-radius: 1em;\n",
       "  height: 1em;\n",
       "  width: 1em;\n",
       "  text-decoration: none !important;\n",
       "  margin-left: 0.5em;\n",
       "  text-align: center;\n",
       "  /* unfitted */\n",
       "  border: var(--sklearn-color-unfitted-level-1) 1pt solid;\n",
       "  color: var(--sklearn-color-unfitted-level-1);\n",
       "}\n",
       "\n",
       ".sk-estimator-doc-link.fitted,\n",
       "a:link.sk-estimator-doc-link.fitted,\n",
       "a:visited.sk-estimator-doc-link.fitted {\n",
       "  /* fitted */\n",
       "  border: var(--sklearn-color-fitted-level-1) 1pt solid;\n",
       "  color: var(--sklearn-color-fitted-level-1);\n",
       "}\n",
       "\n",
       "/* On hover */\n",
       "div.sk-estimator:hover .sk-estimator-doc-link:hover,\n",
       ".sk-estimator-doc-link:hover,\n",
       "div.sk-label-container:hover .sk-estimator-doc-link:hover,\n",
       ".sk-estimator-doc-link:hover {\n",
       "  /* unfitted */\n",
       "  background-color: var(--sklearn-color-unfitted-level-3);\n",
       "  color: var(--sklearn-color-background);\n",
       "  text-decoration: none;\n",
       "}\n",
       "\n",
       "div.sk-estimator.fitted:hover .sk-estimator-doc-link.fitted:hover,\n",
       ".sk-estimator-doc-link.fitted:hover,\n",
       "div.sk-label-container:hover .sk-estimator-doc-link.fitted:hover,\n",
       ".sk-estimator-doc-link.fitted:hover {\n",
       "  /* fitted */\n",
       "  background-color: var(--sklearn-color-fitted-level-3);\n",
       "  color: var(--sklearn-color-background);\n",
       "  text-decoration: none;\n",
       "}\n",
       "\n",
       "/* Span, style for the box shown on hovering the info icon */\n",
       ".sk-estimator-doc-link span {\n",
       "  display: none;\n",
       "  z-index: 9999;\n",
       "  position: relative;\n",
       "  font-weight: normal;\n",
       "  right: .2ex;\n",
       "  padding: .5ex;\n",
       "  margin: .5ex;\n",
       "  width: min-content;\n",
       "  min-width: 20ex;\n",
       "  max-width: 50ex;\n",
       "  color: var(--sklearn-color-text);\n",
       "  box-shadow: 2pt 2pt 4pt #999;\n",
       "  /* unfitted */\n",
       "  background: var(--sklearn-color-unfitted-level-0);\n",
       "  border: .5pt solid var(--sklearn-color-unfitted-level-3);\n",
       "}\n",
       "\n",
       ".sk-estimator-doc-link.fitted span {\n",
       "  /* fitted */\n",
       "  background: var(--sklearn-color-fitted-level-0);\n",
       "  border: var(--sklearn-color-fitted-level-3);\n",
       "}\n",
       "\n",
       ".sk-estimator-doc-link:hover span {\n",
       "  display: block;\n",
       "}\n",
       "\n",
       "/* \"?\"-specific style due to the `<a>` HTML tag */\n",
       "\n",
       "#sk-container-id-1 a.estimator_doc_link {\n",
       "  float: right;\n",
       "  font-size: 1rem;\n",
       "  line-height: 1em;\n",
       "  font-family: monospace;\n",
       "  background-color: var(--sklearn-color-background);\n",
       "  border-radius: 1rem;\n",
       "  height: 1rem;\n",
       "  width: 1rem;\n",
       "  text-decoration: none;\n",
       "  /* unfitted */\n",
       "  color: var(--sklearn-color-unfitted-level-1);\n",
       "  border: var(--sklearn-color-unfitted-level-1) 1pt solid;\n",
       "}\n",
       "\n",
       "#sk-container-id-1 a.estimator_doc_link.fitted {\n",
       "  /* fitted */\n",
       "  border: var(--sklearn-color-fitted-level-1) 1pt solid;\n",
       "  color: var(--sklearn-color-fitted-level-1);\n",
       "}\n",
       "\n",
       "/* On hover */\n",
       "#sk-container-id-1 a.estimator_doc_link:hover {\n",
       "  /* unfitted */\n",
       "  background-color: var(--sklearn-color-unfitted-level-3);\n",
       "  color: var(--sklearn-color-background);\n",
       "  text-decoration: none;\n",
       "}\n",
       "\n",
       "#sk-container-id-1 a.estimator_doc_link.fitted:hover {\n",
       "  /* fitted */\n",
       "  background-color: var(--sklearn-color-fitted-level-3);\n",
       "}\n",
       "</style><div id=\"sk-container-id-1\" class=\"sk-top-container\"><div class=\"sk-text-repr-fallback\"><pre>GridSearchCV(cv=5, estimator=DecisionTreeClassifier(random_state=42), n_jobs=-1,\n",
       "             param_grid={&#x27;class_weight&#x27;: [&#x27;balanced&#x27;, None],\n",
       "                         &#x27;max_depth&#x27;: [3, 5, 7, 10, 15, 20],\n",
       "                         &#x27;min_samples_leaf&#x27;: [2, 5, 7, 10, 15, 20],\n",
       "                         &#x27;min_samples_split&#x27;: [2, 3, 5, 7, 8, 10, 20]},\n",
       "             scoring=&#x27;f1_weighted&#x27;)</pre><b>In a Jupyter environment, please rerun this cell to show the HTML representation or trust the notebook. <br />On GitHub, the HTML representation is unable to render, please try loading this page with nbviewer.org.</b></div><div class=\"sk-container\" hidden><div class=\"sk-item sk-dashed-wrapped\"><div class=\"sk-label-container\"><div class=\"sk-label fitted sk-toggleable\"><input class=\"sk-toggleable__control sk-hidden--visually\" id=\"sk-estimator-id-1\" type=\"checkbox\" ><label for=\"sk-estimator-id-1\" class=\"sk-toggleable__label fitted sk-toggleable__label-arrow\"><div><div>GridSearchCV</div></div><div><a class=\"sk-estimator-doc-link fitted\" rel=\"noreferrer\" target=\"_blank\" href=\"https://scikit-learn.org/1.6/modules/generated/sklearn.model_selection.GridSearchCV.html\">?<span>Documentation for GridSearchCV</span></a><span class=\"sk-estimator-doc-link fitted\">i<span>Fitted</span></span></div></label><div class=\"sk-toggleable__content fitted\"><pre>GridSearchCV(cv=5, estimator=DecisionTreeClassifier(random_state=42), n_jobs=-1,\n",
       "             param_grid={&#x27;class_weight&#x27;: [&#x27;balanced&#x27;, None],\n",
       "                         &#x27;max_depth&#x27;: [3, 5, 7, 10, 15, 20],\n",
       "                         &#x27;min_samples_leaf&#x27;: [2, 5, 7, 10, 15, 20],\n",
       "                         &#x27;min_samples_split&#x27;: [2, 3, 5, 7, 8, 10, 20]},\n",
       "             scoring=&#x27;f1_weighted&#x27;)</pre></div> </div></div><div class=\"sk-parallel\"><div class=\"sk-parallel-item\"><div class=\"sk-item\"><div class=\"sk-label-container\"><div class=\"sk-label fitted sk-toggleable\"><input class=\"sk-toggleable__control sk-hidden--visually\" id=\"sk-estimator-id-2\" type=\"checkbox\" ><label for=\"sk-estimator-id-2\" class=\"sk-toggleable__label fitted sk-toggleable__label-arrow\"><div><div>best_estimator_: DecisionTreeClassifier</div></div></label><div class=\"sk-toggleable__content fitted\"><pre>DecisionTreeClassifier(max_depth=20, min_samples_leaf=20, random_state=42)</pre></div> </div></div><div class=\"sk-serial\"><div class=\"sk-item\"><div class=\"sk-estimator fitted sk-toggleable\"><input class=\"sk-toggleable__control sk-hidden--visually\" id=\"sk-estimator-id-3\" type=\"checkbox\" ><label for=\"sk-estimator-id-3\" class=\"sk-toggleable__label fitted sk-toggleable__label-arrow\"><div><div>DecisionTreeClassifier</div></div><div><a class=\"sk-estimator-doc-link fitted\" rel=\"noreferrer\" target=\"_blank\" href=\"https://scikit-learn.org/1.6/modules/generated/sklearn.tree.DecisionTreeClassifier.html\">?<span>Documentation for DecisionTreeClassifier</span></a></div></label><div class=\"sk-toggleable__content fitted\"><pre>DecisionTreeClassifier(max_depth=20, min_samples_leaf=20, random_state=42)</pre></div> </div></div></div></div></div></div></div></div></div>"
      ],
      "text/plain": [
       "GridSearchCV(cv=5, estimator=DecisionTreeClassifier(random_state=42), n_jobs=-1,\n",
       "             param_grid={'class_weight': ['balanced', None],\n",
       "                         'max_depth': [3, 5, 7, 10, 15, 20],\n",
       "                         'min_samples_leaf': [2, 5, 7, 10, 15, 20],\n",
       "                         'min_samples_split': [2, 3, 5, 7, 8, 10, 20]},\n",
       "             scoring='f1_weighted')"
      ]
     },
     "execution_count": 53,
     "metadata": {},
     "output_type": "execute_result"
    }
   ],
   "source": [
    "param_grid = {\n",
    "    'max_depth': [3, 5, 7, 10, 15, 20],\n",
    "    'min_samples_split': [2, 3, 5, 7, 8, 10, 20],\n",
    "    'min_samples_leaf': [2, 5, 7, 10, 15, 20],\n",
    "    'class_weight': ['balanced', None]\n",
    "}\n",
    "\n",
    "grid_dtc = GridSearchCV(\n",
    "    estimator=DecisionTreeClassifier(random_state=42),\n",
    "    param_grid=param_grid,\n",
    "    scoring='f1_weighted',\n",
    "    cv=5,\n",
    "    n_jobs=-1\n",
    ")\n",
    "\n",
    "grid_dtc.fit(X_train_scaled, y_train) # 5 dakika sürmesi beklenmektedir"
   ]
  },
  {
   "cell_type": "code",
   "execution_count": 54,
   "id": "8f973472",
   "metadata": {},
   "outputs": [
    {
     "name": "stdout",
     "output_type": "stream",
     "text": [
      "              precision    recall  f1-score   support\n",
      "\n",
      "           0       0.81      0.94      0.87     17669\n",
      "           1       0.36      0.14      0.21      4437\n",
      "\n",
      "    accuracy                           0.78     22106\n",
      "   macro avg       0.59      0.54      0.54     22106\n",
      "weighted avg       0.72      0.78      0.74     22106\n",
      "\n"
     ]
    }
   ],
   "source": [
    "fine_tuned_dtc = DecisionTreeClassifier(max_depth=20, min_samples_leaf=20, random_state=42)\n",
    "fine_tuned_dtc.fit(X_train_scaled, y_train)\n",
    "\n",
    "y_pred_ft_dtc = fine_tuned_dtc.predict(X_test_scaled)\n",
    "print(classification_report(y_test,y_pred_ft_dtc))"
   ]
  },
  {
   "cell_type": "code",
   "execution_count": 55,
   "id": "d475336e",
   "metadata": {},
   "outputs": [
    {
     "name": "stdout",
     "output_type": "stream",
     "text": [
      "<class 'list'>\n",
      "LR  ' F1 Score Ortalaması:  0.4614082129246097\n",
      "DT  ' F1 Score Ortalaması:  0.5783549118512626\n",
      "NB  ' F1 Score Ortalaması:  0.5449411948645603\n",
      "RF  ' F1 Score Ortalaması:  0.5547175135587359\n",
      "XGB  ' F1 Score Ortalaması:  0.5103154564824711\n"
     ]
    }
   ],
   "source": [
    "# Modelleri tek tek denemek yerine fonksiyon ile karşılaştırıp model seçimini gerçekleştirelim.\n",
    "models = [\n",
    "    ('LR', LogisticRegression()),\n",
    "    ('DT', DecisionTreeClassifier()),\n",
    "    ('NB', GaussianNB()),\n",
    "    #('SVM', SVC()),\n",
    "    (\"RF\", RandomForestClassifier()),\n",
    "    (\"XGB\", XGBClassifier())\n",
    "]\n",
    "# SVC çok yavaş çalışacağından modellerden çıkartılabilir.\n",
    "print(type(models))\n",
    "\n",
    "from sklearn.model_selection import KFold, cross_val_score\n",
    "\n",
    "model_name = []\n",
    "model_f1_result = []\n",
    "\n",
    "for name, model in models:\n",
    "    kfold = KFold(shuffle = True, n_splits = 10, random_state = 42)\n",
    "    cros_val_scores = cross_val_score(model, X_train_scaled, y_train, cv = kfold, scoring = \"f1_macro\", n_jobs = -1)\n",
    "    model_name.append(name)\n",
    "    model_f1_result.append(cros_val_scores)\n",
    "    \n",
    "    print(name,\" ' F1 Score Ortalaması: \", cros_val_scores.mean())"
   ]
  },
  {
   "cell_type": "code",
   "execution_count": 57,
   "id": "2337ee51",
   "metadata": {},
   "outputs": [
    {
     "name": "stdout",
     "output_type": "stream",
     "text": [
      "LR  'AUC Score' Ortalaması:  0.6685028155153422\n",
      "DT  'AUC Score' Ortalaması:  0.5816521477288091\n",
      "NB  'AUC Score' Ortalaması:  0.6466581382055855\n",
      "RF  'AUC Score' Ortalaması:  0.7321365930450735\n",
      "XGB  'AUC Score' Ortalaması:  0.736786654176343\n"
     ]
    }
   ],
   "source": [
    "model_name = []\n",
    "model_auc_result = []\n",
    "\n",
    "for name, model in models:\n",
    "    kfold = KFold(shuffle = True, n_splits = 10, random_state = 42)\n",
    "    cros_val_scores = cross_val_score(model, X_train_scaled, y_train, cv = kfold, scoring = \"roc_auc\", n_jobs = -1)\n",
    "    model_name.append(name)\n",
    "    model_f1_result.append(cros_val_scores)\n",
    "    \n",
    "    print(name,\" 'AUC Score' Ortalaması: \", cros_val_scores.mean())"
   ]
  },
  {
   "cell_type": "markdown",
   "id": "a2e13366",
   "metadata": {},
   "source": [
    "o Dengesiz veri ile çalıştığımızdan kaynaklı Random Forest kullanmak daha mantıklı olacaktır. Daha az etkilenir ve AUC ve F1 Score değerleri modeller arasında karşılaştırıldığı vakit ön plana çıkmaktadır.\n"
   ]
  },
  {
   "cell_type": "code",
   "execution_count": null,
   "id": "4320f05f",
   "metadata": {},
   "outputs": [
    {
     "name": "stdout",
     "output_type": "stream",
     "text": [
      "Fitting 5 folds for each of 20 candidates, totalling 100 fits\n",
      "Random Forest Modeli İçin En İyi Parametreler:  {'n_estimators': 300, 'min_samples_split': 2, 'min_samples_leaf': 1, 'max_depth': None, 'criterion': 'log_loss', 'class_weight': 'balanced'}\n"
     ]
    }
   ],
   "source": [
    "# Random Forest Modeli Fine Tuning\n",
    "# Azınlık olan sınıfı çok kötü tahminliyor, veri setindeki miktarını artırmak lazım.\n",
    "from sklearn.metrics import make_scorer, f1_score # az olan sınıfa odaklanalım\n",
    "\n",
    "f1_minority = make_scorer(f1_score, pos_label = 1)\n",
    "param_grid = {\n",
    "    'criterion': ['gini', 'entropy', 'log_loss'],  # farklı bölme stratejileri\n",
    "    'max_depth': [3, 5, 10, 15, 20, 30, None],\n",
    "    'min_samples_split': [2, 5, 10, 20, 30, 40, 50, 100],\n",
    "    'min_samples_leaf': [1, 2, 5, 10, 15,20, 25, 50],\n",
    "    'class_weight': ['balanced'],\n",
    "    \"n_estimators\": [50, 100, 150, 200, 300, 400, 500, 1000]\n",
    "}\n",
    "\n",
    "rcv_rf = RandomizedSearchCV(estimator= RandomForestClassifier(random_state= 42),\n",
    "                            param_distributions= param_grid,\n",
    "                            n_iter= 20,\n",
    "                            cv = 5,\n",
    "                            verbose= 1,\n",
    "                            n_jobs= -1)\n",
    "\n",
    "# Model Fit\n",
    "rcv_rf.fit(X_train_scaled, y_train)\n",
    "\n",
    "print(\"Random Forest Modeli İçin En İyi Parametreler: \", rcv_rf.best_params_)\n",
    "\n",
    "# En iyi model\n",
    "best_rf_model = rcv_rf.best_estimator_\n",
    "# 15 dk "
   ]
  },
  {
   "cell_type": "code",
   "execution_count": null,
   "id": "10e30bed",
   "metadata": {},
   "outputs": [
    {
     "name": "stdout",
     "output_type": "stream",
     "text": [
      "[[17060   609]\n",
      " [ 3822   615]]\n",
      "**************************************************\n"
     ]
    },
    {
     "data": {
      "text/plain": [
       "'              precision    recall  f1-score   support\\n\\n           0       0.82      0.97      0.89     17669\\n           1       0.50      0.14      0.22      4437\\n\\n    accuracy                           0.80     22106\\n   macro avg       0.66      0.55      0.55     22106\\nweighted avg       0.75      0.80      0.75     22106\\n'"
      ]
     },
     "execution_count": 62,
     "metadata": {},
     "output_type": "execute_result"
    },
    {
     "data": {
      "image/png": "[encoded data removed]",
      "text/plain": [
       "<Figure size 640x480 with 2 Axes>"
      ]
     },
     "metadata": {},
     "output_type": "display_data"
    }
   ],
   "source": [
    "fined_tuned_rf = RandomForestClassifier(n_estimators= 300, \n",
    "                                        min_samples_split= 2, \n",
    "                                        min_samples_leaf= 1, \n",
    "                                        max_depth= None, \n",
    "                                        criterion = 'log_loss', \n",
    "                                        class_weight= 'balanced'\n",
    "    \n",
    ")\n",
    "fined_tuned_rf.fit(X_train_scaled, y_train)\n",
    "y_pred_ft_rf = fined_tuned_rf.predict(X_test_scaled)\n",
    "\n",
    "cm = confusion_matrix(y_test, y_pred_ft_rf)\n",
    "print(cm)\n",
    "print(\"*\"*50)\n",
    "cm_display = ConfusionMatrixDisplay(confusion_matrix= cm)\n",
    "cm_display.plot()\n",
    "\n"
   ]
  },
  {
   "cell_type": "code",
   "execution_count": 65,
   "id": "b205978d",
   "metadata": {},
   "outputs": [
    {
     "name": "stdout",
     "output_type": "stream",
     "text": [
      "Fine Tuned Random Forest Classification Report:\n",
      "                precision    recall  f1-score   support\n",
      "\n",
      "           0       0.82      0.97      0.89     17669\n",
      "           1       0.50      0.14      0.22      4437\n",
      "\n",
      "    accuracy                           0.80     22106\n",
      "   macro avg       0.66      0.55      0.55     22106\n",
      "weighted avg       0.75      0.80      0.75     22106\n",
      "\n"
     ]
    }
   ],
   "source": [
    "print(\"Fine Tuned Random Forest Classification Report:\\n \",classification_report(y_test, y_pred_ft_rf))\n"
   ]
  }
 ],
 "metadata": {
  "kernelspec": {
   "display_name": "base",
   "language": "python",
   "name": "python3"
  },
  "language_info": {
   "codemirror_mode": {
    "name": "ipython",
    "version": 3
   },
   "file_extension": ".py",
   "mimetype": "text/x-python",
   "name": "python",
   "nbconvert_exporter": "python",
   "pygments_lexer": "ipython3",
   "version": "3.11.7"
  }
 },
 "nbformat": 4,
 "nbformat_minor": 5
}
